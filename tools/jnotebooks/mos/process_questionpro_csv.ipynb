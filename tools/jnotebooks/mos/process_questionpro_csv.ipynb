{
 "cells": [
  {
   "cell_type": "code",
   "execution_count": 6,
   "outputs": [],
   "source": [
    "import re\n",
    "from pathlib import Path\n",
    "\n",
    "filepath = Path(\"/home/arnas/Downloads/RawData--9940616-05-30-2022-T143908.350.csv\")\n",
    "out_path = Path(\"/home/arnas/Downloads/fixed_responses_FINAL.csv\")\n",
    "with open(filepath, mode='r', encoding='utf-8') as f:\n",
    "    contents = f.read().strip()\n",
    "\n",
    "contents = re.sub('\\\"', '', contents)\n",
    "lines = contents.split('\\n')\n",
    "responses = [line.split(',') for line in lines]"
   ],
   "metadata": {
    "collapsed": false,
    "pycharm": {
     "name": "#%%\n"
    }
   }
  },
  {
   "cell_type": "code",
   "execution_count": 7,
   "outputs": [],
   "source": [
    "len_participants = len(responses)\n",
    "len_samples = len(responses[0])"
   ],
   "metadata": {
    "collapsed": false,
    "pycharm": {
     "name": "#%%\n"
    }
   }
  },
  {
   "cell_type": "code",
   "execution_count": 8,
   "outputs": [],
   "source": [
    "averages = [0] * len_samples\n",
    "for sample in range(len_samples):\n",
    "    t = 0\n",
    "    c = 0\n",
    "    for participant in range(len_participants):\n",
    "        if responses[participant][sample]:\n",
    "            t += int(responses[participant][sample])\n",
    "            c += 1\n",
    "    averages[sample] = round(t / c)"
   ],
   "metadata": {
    "collapsed": false,
    "pycharm": {
     "name": "#%%\n"
    }
   }
  },
  {
   "cell_type": "code",
   "execution_count": 9,
   "outputs": [],
   "source": [
    "fixed_responses = responses.copy()\n",
    "for j in range(len_participants):\n",
    "    for i in range(len_samples):\n",
    "        if not fixed_responses[j][i]:\n",
    "            fixed_responses[j][i] = averages[i]\n",
    "        else:\n",
    "            fixed_responses[j][i] = int(fixed_responses[j][i])"
   ],
   "metadata": {
    "collapsed": false,
    "pycharm": {
     "name": "#%%\n"
    }
   }
  },
  {
   "cell_type": "code",
   "execution_count": 10,
   "outputs": [],
   "source": [
    "with open(out_path, mode='w') as f:\n",
    "    f.write('\\n'.join([','.join(str(sample) for sample in samples) for samples in fixed_responses]))\n"
   ],
   "metadata": {
    "collapsed": false,
    "pycharm": {
     "name": "#%%\n"
    }
   }
  }
 ],
 "metadata": {
  "kernelspec": {
   "display_name": "Python 3",
   "language": "python",
   "name": "python3"
  },
  "language_info": {
   "codemirror_mode": {
    "name": "ipython",
    "version": 2
   },
   "file_extension": ".py",
   "mimetype": "text/x-python",
   "name": "python",
   "nbconvert_exporter": "python",
   "pygments_lexer": "ipython2",
   "version": "2.7.6"
  }
 },
 "nbformat": 4,
 "nbformat_minor": 0
}