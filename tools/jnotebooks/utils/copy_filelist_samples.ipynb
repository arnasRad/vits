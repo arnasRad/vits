{
 "cells": [
  {
   "cell_type": "code",
   "execution_count": 13,
   "outputs": [],
   "source": [
    "\n",
    "from pathlib import Path\n",
    "\n",
    "from src.dataset.core import InOutPair\n",
    "from src.dataset.core import TestSet"
   ],
   "metadata": {
    "collapsed": false,
    "pycharm": {
     "name": "#%%\n"
    }
   }
  },
  {
   "cell_type": "code",
   "execution_count": 14,
   "outputs": [],
   "source": [
    "filelist_paths = [\n",
    "    # Path(\"/home/arnas/Desktop/tdi/bitbucket/vits/files/filelists/aurimas_nausedas_test_filelist.txt\"),\n",
    "    # Path(\"/home/arnas/Desktop/tdi/bitbucket/vits/files/filelists/giedrius_altoriu_sesely_test_filelist.txt\"),\n",
    "    Path(\"/home/arnas/Desktop/tdi/bitbucket/vits/files/filelists/mif_one_speaker_stressed_test_filelist.txt\"),\n",
    "]\n",
    "out_dir = Path(\"/media/arnas/SSD Disk/uni/semester_4/masters-thesis/test_samples\")\n",
    "in_out_pairs = [InOutPair(in_filepath=path, out_directory=out_dir / path.name.replace('_test_filelist.txt', '')) for path in filelist_paths]"
   ],
   "metadata": {
    "collapsed": false,
    "pycharm": {
     "name": "#%%\n"
    }
   }
  },
  {
   "cell_type": "code",
   "execution_count": 15,
   "outputs": [],
   "source": [
    "test_sets = [TestSet.from_in_out_pair(pair) for pair in in_out_pairs]"
   ],
   "metadata": {
    "collapsed": false,
    "pycharm": {
     "name": "#%%\n"
    }
   }
  },
  {
   "cell_type": "code",
   "execution_count": 16,
   "outputs": [],
   "source": [
    "for test_set in test_sets:\n",
    "    test_set.copy_wavs()\n",
    "    test_set.save_out_filelist(include_non_stressed=True)\n"
   ],
   "metadata": {
    "collapsed": false,
    "pycharm": {
     "name": "#%%\n"
    }
   }
  }
 ],
 "metadata": {
  "kernelspec": {
   "display_name": "Python 3",
   "language": "python",
   "name": "python3"
  },
  "language_info": {
   "codemirror_mode": {
    "name": "ipython",
    "version": 2
   },
   "file_extension": ".py",
   "mimetype": "text/x-python",
   "name": "python",
   "nbconvert_exporter": "python",
   "pygments_lexer": "ipython2",
   "version": "2.7.6"
  }
 },
 "nbformat": 4,
 "nbformat_minor": 0
}
