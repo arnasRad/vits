{
 "cells": [
  {
   "cell_type": "code",
   "execution_count": 1,
   "metadata": {
    "collapsed": true,
    "pycharm": {
     "name": "#%%\n"
    }
   },
   "outputs": [],
   "source": [
    "import numpy"
   ]
  },
  {
   "cell_type": "code",
   "execution_count": 2,
   "outputs": [],
   "source": [
    "# # models survey\n",
    "# samples_per_question = 5\n",
    "# samples_per_source = 30\n",
    "# hits = [['vits_vytautas_ns', 'taco_vytautas_s', 'taco_vytautas_ns', 'vytautas', 'taco_aurimas_s'],\n",
    "#         ['taco_vytautas_ns', 'vits_giedrius_s', 'taco_aurimas_ns', 'aurimas', 'vits_vytautas_s'],\n",
    "#         ['vits_giedrius_ns', 'taco_giedrius_ns', 'taco_vytautas_ns', 'aurimas', 'taco_aurimas_ns'],\n",
    "#         ['vits_aurimas_ns', 'aurimas', 'taco_vytautas_s', 'taco_aurimas_ns', 'taco_vytautas_ns'],\n",
    "#         ['vits_aurimas_ns', 'taco_aurimas_s', 'taco_vytautas_ns', 'aurimas', 'taco_giedrius_s'],\n",
    "#         ['vits_aurimas_s', 'vytautas', 'vits_giedrius_s', 'taco_giedrius_ns', 'vits_aurimas_ns'],\n",
    "#         ['vytautas', 'taco_vytautas_s', 'taco_aurimas_ns', 'vits_vytautas_s', 'vits_aurimas_s'],\n",
    "#         ['giedrius', 'taco_aurimas_s', 'taco_aurimas_ns', 'vits_giedrius_ns', 'vits_aurimas_ns'],\n",
    "#         ['taco_aurimas_ns', 'taco_giedrius_s', 'vits_giedrius_s', 'vytautas', 'taco_giedrius_ns'],\n",
    "#         ['taco_giedrius_ns', 'taco_vytautas_s', 'taco_giedrius_s', 'giedrius', 'vits_vytautas_ns'],\n",
    "#         ['taco_giedrius_s', 'vits_aurimas_s', 'giedrius', 'vits_vytautas_s', 'taco_vytautas_s'],\n",
    "#         ['vits_vytautas_s', 'vits_vytautas_ns', 'aurimas', 'vits_giedrius_s', 'vits_aurimas_s'],\n",
    "#         ['vits_aurimas_ns', 'vits_vytautas_ns', 'taco_giedrius_s', 'vits_vytautas_s', 'aurimas'],\n",
    "#         ['taco_vytautas_ns', 'taco_aurimas_s', 'giedrius', 'vits_giedrius_s', 'vits_vytautas_ns'],\n",
    "#         ['aurimas', 'taco_giedrius_ns', 'vits_giedrius_ns', 'taco_aurimas_ns', 'vits_vytautas_ns'],\n",
    "#         ['taco_vytautas_ns', 'vits_aurimas_s', 'vits_giedrius_ns', 'vits_vytautas_s', 'giedrius'],\n",
    "#         ['vits_aurimas_ns', 'vits_giedrius_s', 'vits_giedrius_ns', 'taco_giedrius_s', 'aurimas'],\n",
    "#         ['vits_giedrius_s', 'giedrius', 'taco_aurimas_s', 'vits_aurimas_ns', 'taco_giedrius_s'],\n",
    "#         ['vits_giedrius_s', 'taco_giedrius_s', 'taco_aurimas_ns', 'giedrius', 'taco_aurimas_s'],\n",
    "#         ['vits_aurimas_ns', 'aurimas', 'taco_giedrius_s', 'taco_giedrius_ns', 'vits_giedrius_s'],\n",
    "#         ['taco_giedrius_ns', 'vits_giedrius_ns', 'vits_aurimas_ns', 'vits_vytautas_ns', 'vytautas'],\n",
    "#         ['taco_vytautas_ns', 'giedrius', 'vits_giedrius_s', 'vits_giedrius_ns', 'taco_aurimas_s'],\n",
    "#         ['vytautas', 'taco_giedrius_ns', 'vits_giedrius_ns', 'taco_giedrius_s', 'vits_aurimas_ns'],\n",
    "#         ['vits_aurimas_ns', 'vits_vytautas_ns', 'vits_aurimas_s', 'taco_vytautas_s', 'vytautas'],\n",
    "#         ['taco_giedrius_ns', 'taco_vytautas_s', 'vytautas', 'vits_aurimas_ns', 'vits_aurimas_s'],\n",
    "#         ['vits_aurimas_ns', 'giedrius', 'taco_vytautas_ns', 'vits_vytautas_ns', 'taco_giedrius_ns'],\n",
    "#         ['taco_giedrius_ns', 'vits_giedrius_s', 'giedrius', 'taco_vytautas_ns', 'vits_aurimas_s'],\n",
    "#         ['taco_giedrius_ns', 'vits_aurimas_ns', 'taco_giedrius_s', 'taco_vytautas_ns', 'aurimas'],\n",
    "#         ['aurimas', 'taco_vytautas_ns', 'taco_aurimas_ns', 'vits_giedrius_s', 'taco_vytautas_s'],\n",
    "#         ['vits_vytautas_s', 'taco_vytautas_ns', 'vytautas', 'taco_aurimas_s', 'taco_vytautas_s'],\n",
    "#         ['vits_giedrius_ns', 'vits_vytautas_ns', 'taco_vytautas_s', 'taco_aurimas_s', 'vytautas'],\n",
    "#         ['vits_vytautas_ns', 'vits_giedrius_s', 'taco_aurimas_ns', 'vits_aurimas_s', 'vytautas'],\n",
    "#         ['taco_aurimas_ns', 'vytautas', 'taco_vytautas_ns', 'vits_giedrius_ns', 'vits_vytautas_s'],\n",
    "#         ['giedrius', 'vits_vytautas_s', 'taco_giedrius_s', 'vits_aurimas_s', 'taco_vytautas_s'],\n",
    "#         ['vits_giedrius_s', 'vytautas', 'vits_aurimas_s', 'vits_vytautas_ns', 'taco_giedrius_ns'],\n",
    "#         ['vits_aurimas_s', 'taco_aurimas_ns', 'taco_giedrius_s', 'aurimas', 'taco_giedrius_ns'],\n",
    "#         ['vits_giedrius_ns', 'taco_giedrius_s', 'taco_giedrius_ns', 'vytautas', 'taco_vytautas_ns'],\n",
    "#         ['taco_aurimas_ns', 'taco_giedrius_s', 'vits_giedrius_ns', 'vits_vytautas_s', 'giedrius'],\n",
    "#         ['aurimas', 'vits_aurimas_ns', 'taco_giedrius_s', 'taco_aurimas_s', 'taco_giedrius_ns'],\n",
    "#         ['vytautas', 'vits_vytautas_ns', 'taco_giedrius_s', 'taco_aurimas_s', 'taco_vytautas_s'],\n",
    "#         ['taco_aurimas_s', 'vits_giedrius_ns', 'taco_vytautas_s', 'aurimas', 'vits_vytautas_s'],\n",
    "#         ['aurimas', 'taco_giedrius_s', 'vits_giedrius_s', 'vits_giedrius_ns', 'taco_aurimas_s'],\n",
    "#         ['vits_vytautas_ns', 'vits_aurimas_s', 'vits_vytautas_s', 'taco_aurimas_ns', 'aurimas'],\n",
    "#         ['vits_giedrius_ns', 'taco_vytautas_ns', 'vytautas', 'vits_aurimas_ns', 'taco_giedrius_ns'],\n",
    "#         ['taco_vytautas_s', 'vytautas', 'taco_vytautas_ns', 'taco_aurimas_ns', 'taco_giedrius_s'],\n",
    "#         ['taco_aurimas_s', 'giedrius', 'taco_vytautas_s', 'vits_aurimas_ns', 'vits_vytautas_ns'],\n",
    "#         ['taco_aurimas_s', 'taco_aurimas_ns', 'vits_aurimas_ns', 'taco_vytautas_s', 'giedrius'],\n",
    "#         ['taco_aurimas_s', 'vytautas', 'vits_aurimas_ns', 'vits_vytautas_s', 'vits_giedrius_ns'],\n",
    "#         ['taco_vytautas_ns', 'taco_aurimas_ns', 'aurimas', 'taco_vytautas_s', 'taco_aurimas_s'],\n",
    "#         ['vits_giedrius_s', 'taco_aurimas_ns', 'taco_vytautas_s', 'vytautas', 'vits_vytautas_s'],\n",
    "#         ['taco_vytautas_ns', 'vits_vytautas_ns', 'aurimas', 'vits_giedrius_ns', 'vits_vytautas_s'],\n",
    "#         ['taco_aurimas_s', 'taco_vytautas_s', 'taco_aurimas_ns', 'taco_giedrius_ns', 'giedrius'],\n",
    "#         ['vits_aurimas_s', 'vits_vytautas_ns', 'vits_vytautas_s', 'taco_giedrius_ns', 'aurimas'],\n",
    "#         ['vits_vytautas_s', 'vits_giedrius_s', 'vits_vytautas_ns', 'vits_aurimas_s', 'giedrius'],\n",
    "#         ['vits_vytautas_s', 'giedrius', 'taco_giedrius_ns', 'taco_aurimas_ns', 'vits_aurimas_s'],\n",
    "#         ['taco_vytautas_ns', 'vytautas', 'vits_vytautas_s', 'vits_aurimas_ns', 'vits_aurimas_s'],\n",
    "#         ['vits_vytautas_ns', 'taco_giedrius_ns', 'aurimas', 'vits_vytautas_s', 'vits_aurimas_s'],\n",
    "#         ['giedrius', 'taco_vytautas_ns', 'vits_vytautas_s', 'vits_giedrius_s', 'vits_giedrius_ns'],\n",
    "#         ['vits_aurimas_s', 'aurimas', 'taco_aurimas_s', 'taco_giedrius_ns', 'vits_giedrius_ns'],\n",
    "#         ['taco_vytautas_ns', 'giedrius', 'vits_vytautas_s', 'taco_giedrius_ns', 'vits_aurimas_ns'],\n",
    "#         ['vits_giedrius_s', 'taco_vytautas_ns', 'vits_vytautas_ns', 'vits_vytautas_s', 'giedrius'],\n",
    "#         ['taco_vytautas_s', 'taco_aurimas_ns', 'taco_giedrius_ns', 'taco_vytautas_ns', 'giedrius'],\n",
    "#         ['aurimas', 'vits_giedrius_ns', 'taco_aurimas_s', 'taco_vytautas_s', 'vits_giedrius_s'],\n",
    "#         ['taco_vytautas_ns', 'taco_aurimas_ns', 'vits_aurimas_s', 'aurimas', 'vits_vytautas_ns'],\n",
    "#         ['vits_vytautas_ns', 'taco_giedrius_s', 'vits_aurimas_s', 'giedrius', 'vits_aurimas_ns'],\n",
    "#         ['vits_aurimas_s', 'giedrius', 'taco_giedrius_s', 'taco_giedrius_ns', 'vits_giedrius_ns'],\n",
    "#         ['vits_vytautas_s', 'giedrius', 'vits_aurimas_s', 'vits_giedrius_ns', 'vits_vytautas_ns'],\n",
    "#         ['taco_giedrius_s', 'taco_giedrius_ns', 'vytautas', 'taco_aurimas_ns', 'vits_giedrius_s'],\n",
    "#         ['vits_aurimas_ns', 'taco_giedrius_ns', 'giedrius', 'vits_vytautas_ns', 'taco_aurimas_ns'],\n",
    "#         ['vits_aurimas_ns', 'vits_giedrius_ns', 'taco_giedrius_s', 'giedrius', 'taco_vytautas_s'],\n",
    "#         ['taco_aurimas_s', 'vits_giedrius_s', 'taco_aurimas_ns', 'vits_giedrius_ns', 'giedrius'],\n",
    "#         ['vits_vytautas_s', 'vits_giedrius_ns', 'vytautas', 'taco_vytautas_ns', 'taco_aurimas_s'],\n",
    "#         ['taco_aurimas_ns', 'vits_giedrius_s', 'vytautas', 'vits_aurimas_ns', 'vits_vytautas_s'],\n",
    "#         ['taco_giedrius_s', 'vytautas', 'taco_aurimas_ns', 'vits_vytautas_s', 'vits_giedrius_ns'],\n",
    "#         ['vytautas', 'vits_giedrius_s', 'vits_vytautas_s', 'taco_aurimas_ns', 'taco_aurimas_s'],\n",
    "#         ['aurimas', 'vits_vytautas_s', 'vits_aurimas_s', 'vits_giedrius_s', 'taco_vytautas_s'],\n",
    "#         ['taco_vytautas_s', 'vits_aurimas_ns', 'aurimas', 'taco_aurimas_s', 'taco_giedrius_s'],\n",
    "#         ['vits_giedrius_ns', 'aurimas', 'vits_giedrius_s', 'taco_giedrius_ns', 'vits_aurimas_ns'],\n",
    "#         ['taco_aurimas_s', 'vits_giedrius_s', 'taco_vytautas_s', 'aurimas', 'vits_aurimas_ns'],\n",
    "#         ['vits_vytautas_ns', 'taco_vytautas_s', 'vits_aurimas_s', 'taco_giedrius_s', 'vytautas'],\n",
    "#         ['vits_vytautas_ns', 'taco_giedrius_s', 'vytautas', 'vits_giedrius_s', 'taco_aurimas_s'],\n",
    "#         ['taco_aurimas_s', 'taco_vytautas_ns', 'vytautas', 'taco_giedrius_s', 'vits_giedrius_s'],\n",
    "#         ['vits_giedrius_s', 'taco_aurimas_s', 'giedrius', 'taco_aurimas_ns', 'vits_aurimas_ns'],\n",
    "#         ['taco_vytautas_s', 'vits_giedrius_ns', 'aurimas', 'vits_aurimas_s', 'vits_vytautas_ns'],\n",
    "#         ['taco_giedrius_s', 'taco_vytautas_ns', 'giedrius', 'taco_giedrius_ns', 'taco_vytautas_s'],\n",
    "#         ['vytautas', 'taco_aurimas_s', 'vits_vytautas_ns', 'vits_aurimas_ns', 'vits_aurimas_s'],\n",
    "#         ['giedrius', 'vits_aurimas_s', 'taco_vytautas_s', 'vits_giedrius_ns', 'vits_vytautas_ns'],\n",
    "#         ['vits_aurimas_s', 'taco_vytautas_ns', 'vytautas', 'taco_giedrius_ns', 'vits_giedrius_ns'],\n",
    "#         ['taco_vytautas_s', 'taco_aurimas_s', 'vits_vytautas_s', 'taco_aurimas_ns', 'aurimas'],\n",
    "#         ['taco_giedrius_s', 'taco_vytautas_ns', 'vits_vytautas_ns', 'aurimas', 'vits_aurimas_s']]\n",
    "#\n",
    "# source_to_id = {\"taco_aurimas_ns\": 0,\n",
    "#               \"taco_aurimas_s\": 1,\n",
    "#               \"taco_giedrius_ns\": 2,\n",
    "#               \"taco_giedrius_s\": 3,\n",
    "#               \"taco_vytautas_ns\": 4,\n",
    "#               \"taco_vytautas_s\": 5,\n",
    "#               \"vits_aurimas_ns\": 6,\n",
    "#               \"vits_aurimas_s\": 7,\n",
    "#               \"vits_giedrius_ns\": 8,\n",
    "#               \"vits_giedrius_s\": 9,\n",
    "#               \"vits_vytautas_ns\": 10,\n",
    "#               \"vits_vytautas_s\": 11,\n",
    "#                 \"aurimas\": 12,\n",
    "#                 \"giedrius\": 13,\n",
    "#                 \"vytautas\": 14,\n",
    "#                 \"gt\": 15,\n",
    "#                 }\n",
    "# id_to_source = {idx: source for source, idx in source_to_id.items()}\n",
    "\n",
    "# lithuanian synthesizers survey\n",
    "samples_per_question = 4\n",
    "samples_per_source = 36\n",
    "hits = [['microsoft_leonas', 'liepa_edvardas', 'vdu', 'aurimas'],\n",
    "        ['vdu', 'liepa_edvardas', 'aurimas', 'microsoft_leonas'],\n",
    "        ['liepa_edvardas', 'aurimas', 'microsoft_leonas', 'vdu'],\n",
    "        ['aurimas', 'microsoft_leonas', 'vdu', 'liepa_edvardas'],\n",
    "        ['vdu', 'aurimas', 'microsoft_leonas', 'liepa_edvardas'],\n",
    "        ['aurimas', 'liepa_edvardas', 'microsoft_leonas', 'vdu'],\n",
    "        ['vdu', 'aurimas', 'liepa_edvardas', 'microsoft_leonas'],\n",
    "        ['liepa_edvardas', 'microsoft_leonas', 'vdu', 'aurimas'],\n",
    "        ['aurimas', 'microsoft_leonas', 'vdu', 'liepa_edvardas'],\n",
    "        ['microsoft_leonas', 'liepa_edvardas', 'vdu', 'aurimas'],\n",
    "        ['microsoft_leonas', 'vdu', 'liepa_edvardas', 'aurimas'],\n",
    "        ['liepa_edvardas', 'microsoft_leonas', 'aurimas', 'vdu'],\n",
    "        ['vdu', 'liepa_edvardas', 'aurimas', 'microsoft_leonas'],\n",
    "        ['vdu', 'aurimas', 'liepa_edvardas', 'microsoft_leonas'],\n",
    "        ['vdu', 'aurimas', 'microsoft_leonas', 'liepa_edvardas'],\n",
    "        ['aurimas', 'microsoft_leonas', 'vdu', 'liepa_edvardas'],\n",
    "        ['liepa_edvardas', 'microsoft_leonas', 'vdu', 'aurimas'],\n",
    "        ['microsoft_leonas', 'liepa_edvardas', 'aurimas', 'vdu'],\n",
    "        ['aurimas', 'vdu', 'microsoft_leonas', 'liepa_edvardas'],\n",
    "        ['liepa_edvardas', 'microsoft_leonas', 'aurimas', 'vdu'],\n",
    "        ['aurimas', 'microsoft_leonas', 'liepa_edvardas', 'vdu'],\n",
    "        ['vdu', 'liepa_edvardas', 'microsoft_leonas', 'aurimas'],\n",
    "        ['aurimas', 'liepa_edvardas', 'vdu', 'microsoft_leonas'],\n",
    "        ['vdu', 'liepa_edvardas', 'aurimas', 'microsoft_leonas'],\n",
    "        ['aurimas', 'vdu', 'microsoft_leonas', 'liepa_edvardas'],\n",
    "        ['liepa_edvardas', 'vdu', 'microsoft_leonas', 'aurimas'],\n",
    "        ['aurimas', 'liepa_edvardas', 'vdu', 'microsoft_leonas'],\n",
    "        ['microsoft_leonas', 'liepa_edvardas', 'vdu', 'aurimas'],\n",
    "        ['microsoft_leonas', 'aurimas', 'vdu', 'liepa_edvardas'],\n",
    "        ['liepa_edvardas', 'vdu', 'microsoft_leonas', 'aurimas'],\n",
    "        ['vdu', 'liepa_edvardas', 'microsoft_leonas', 'aurimas'],\n",
    "        ['vdu', 'liepa_edvardas', 'aurimas', 'microsoft_leonas'],\n",
    "        ['microsoft_leonas', 'liepa_edvardas', 'vdu', 'aurimas'],\n",
    "        ['aurimas', 'microsoft_leonas', 'liepa_edvardas', 'vdu'],\n",
    "        ['vdu', 'aurimas', 'microsoft_leonas', 'liepa_edvardas'],\n",
    "        ['microsoft_leonas', 'aurimas', 'liepa_edvardas', 'vdu'], ]\n",
    "\n",
    "source_to_id = {\"aurimas\": 0,\n",
    "                \"liepa_edvardas\": 1,\n",
    "                \"microsoft_leonas\": 2,\n",
    "                \"vdu\": 3,\n",
    "                }\n",
    "id_to_source = {idx: source for source, idx in source_to_id.items()}\n",
    "\n",
    "calculate_for_synthesizers = True"
   ],
   "metadata": {
    "collapsed": false,
    "pycharm": {
     "name": "#%%\n"
    }
   }
  },
  {
   "cell_type": "code",
   "execution_count": 3,
   "outputs": [],
   "source": [
    "with open(\"/media/arnas/SSD Disk/uni/semester_4/thesis-files/mos/lt_synthesizer_survey/fixed_responses_FINAL.csv\",\n",
    "          mode='r') as f:\n",
    "    lines = f.read().strip().split('\\n')\n",
    "correspondents = len(lines)\n",
    "scores_matrix = [[int(score) for score in line.split(',')] for line in lines]"
   ],
   "metadata": {
    "collapsed": false,
    "pycharm": {
     "name": "#%%\n"
    }
   }
  },
  {
   "cell_type": "code",
   "execution_count": 4,
   "outputs": [],
   "source": [
    "reshaped = numpy.reshape(scores_matrix, (len(scores_matrix), -1, samples_per_question))"
   ],
   "metadata": {
    "collapsed": false,
    "pycharm": {
     "name": "#%%\n"
    }
   }
  },
  {
   "cell_type": "code",
   "execution_count": 5,
   "outputs": [],
   "source": [
    "scores_by_source = {source: [] for source in source_to_id.keys()}\n",
    "for scores in reshaped:\n",
    "    for i in range(len(hits)):\n",
    "        for j in range(0, samples_per_question):\n",
    "            if hits[i][j] in scores_by_source:\n",
    "                scores_by_source[hits[i][j]].append(scores[i][j])\n",
    "                if not calculate_for_synthesizers and hits[i][j] in ['aurimas', 'giedrius', 'vytautas']:\n",
    "                    scores_by_source['gt'].append(scores[i][j])"
   ],
   "metadata": {
    "collapsed": false,
    "pycharm": {
     "name": "#%%\n"
    }
   }
  },
  {
   "cell_type": "markdown",
   "source": [
    "### Calculate MOS"
   ],
   "metadata": {
    "collapsed": false,
    "pycharm": {
     "name": "#%% md\n"
    }
   }
  },
  {
   "cell_type": "code",
   "execution_count": 6,
   "outputs": [],
   "source": [
    "mean_opinion_score = {idx: sum(scores) / (correspondents * samples_per_source) for idx, scores in\n",
    "                      scores_by_source.items() if idx not in ['gt', '' if calculate_for_synthesizers else 'aurimas', 'giedrius', 'vytautas']}"
   ],
   "metadata": {
    "collapsed": false,
    "pycharm": {
     "name": "#%%\n"
    }
   }
  },
  {
   "cell_type": "code",
   "execution_count": 7,
   "outputs": [],
   "source": [
    "if not calculate_for_synthesizers:\n",
    "    mean_opinion_score['gt'] = sum(scores_by_source['gt']) / (correspondents * samples_per_source * 3)\n",
    "    mean_opinion_score['aurimas'] = sum(scores_by_source['aurimas']) / (correspondents * samples_per_source)\n",
    "    mean_opinion_score['giedrius'] = sum(scores_by_source['giedrius']) / (correspondents * samples_per_source)\n",
    "    mean_opinion_score['vytautas'] = sum(scores_by_source['vytautas']) / (correspondents * samples_per_source)"
   ],
   "metadata": {
    "collapsed": false,
    "pycharm": {
     "name": "#%%\n"
    }
   }
  },
  {
   "cell_type": "code",
   "execution_count": 8,
   "outputs": [
    {
     "name": "stdout",
     "output_type": "stream",
     "text": [
      "aurimas: 4.27\n",
      "liepa_edvardas: 1.72\n",
      "microsoft_leonas: 4.01\n",
      "vdu: 4.30\n"
     ]
    }
   ],
   "source": [
    "for source, score in mean_opinion_score.items():\n",
    "    print(f\"{source}: {score:.2f}\")\n"
   ],
   "metadata": {
    "collapsed": false,
    "pycharm": {
     "name": "#%%\n"
    }
   }
  },
  {
   "cell_type": "markdown",
   "source": [
    "### Calculate confidence intervals\n"
   ],
   "metadata": {
    "collapsed": false,
    "pycharm": {
     "name": "#%% md\n"
    }
   }
  },
  {
   "cell_type": "code",
   "execution_count": 9,
   "outputs": [],
   "source": [
    "import numpy as np\n",
    "import scipy.stats as st\n",
    "\n",
    "# reference: https://www.statology.org/confidence-intervals-python/\n",
    "# calculate standard deviation from the whole population\n",
    "sources_mean = {source: np.mean(scores) for source, scores in scores_by_source.items()}"
   ],
   "metadata": {
    "collapsed": false,
    "pycharm": {
     "name": "#%%\n"
    }
   }
  },
  {
   "cell_type": "code",
   "execution_count": 10,
   "outputs": [],
   "source": [
    "cis = {source: st.norm.interval(alpha=0.95, loc=np.mean(scores), scale=st.sem(scores)) for source, scores in\n",
    "       scores_by_source.items()}"
   ],
   "metadata": {
    "collapsed": false,
    "pycharm": {
     "name": "#%%\n"
    }
   }
  },
  {
   "cell_type": "code",
   "execution_count": 11,
   "outputs": [],
   "source": [
    "cis22 = {source: sources_mean[source] - ci1 for source, (ci1, ci2) in cis.items()}"
   ],
   "metadata": {
    "collapsed": false,
    "pycharm": {
     "name": "#%%\n"
    }
   }
  },
  {
   "cell_type": "code",
   "execution_count": 12,
   "outputs": [
    {
     "name": "stdout",
     "output_type": "stream",
     "text": [
      "aurimas: 4.27 +- 0.07\n",
      "liepa_edvardas: 1.72 +- 0.08\n",
      "microsoft_leonas: 4.01 +- 0.08\n",
      "vdu: 4.30 +- 0.07\n"
     ]
    }
   ],
   "source": [
    "for source, ci in cis22.items():\n",
    "    print(f\"{source}: {sources_mean[source]:.2f} +- {ci:.2f}\")\n"
   ],
   "metadata": {
    "collapsed": false,
    "pycharm": {
     "name": "#%%\n"
    }
   }
  }
 ],
 "metadata": {
  "kernelspec": {
   "display_name": "Python 3",
   "language": "python",
   "name": "python3"
  },
  "language_info": {
   "codemirror_mode": {
    "name": "ipython",
    "version": 2
   },
   "file_extension": ".py",
   "mimetype": "text/x-python",
   "name": "python",
   "nbconvert_exporter": "python",
   "pygments_lexer": "ipython2",
   "version": "2.7.6"
  }
 },
 "nbformat": 4,
 "nbformat_minor": 0
}