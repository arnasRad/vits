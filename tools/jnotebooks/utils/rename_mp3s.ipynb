{
 "cells": [
  {
   "cell_type": "code",
   "execution_count": 7,
   "outputs": [],
   "source": [
    "import os\n",
    "from pathlib import Path\n",
    "\n",
    "source_ids = {\"taco_aurimas_ns\": 0,\n",
    "              \"taco_aurimas_s\": 1,\n",
    "              \"taco_giedrius_ns\": 2,\n",
    "              \"taco_giedrius_s\": 3,\n",
    "              \"taco_vytautas_ns\": 4,\n",
    "              \"taco_vytautas_s\": 5,\n",
    "              \"vits_aurimas_ns\": 6,\n",
    "              \"vits_aurimas_s\": 7,\n",
    "              \"vits_giedrius_ns\": 8,\n",
    "              \"vits_giedrius_s\": 9,\n",
    "              \"vits_vytautas_ns\": 10,\n",
    "              \"vits_vytautas_s\": 11,\n",
    "              }\n",
    "\n",
    "input_dir = Path(\"/media/arnas/SSD Disk/uni/semester_4/thesis-files/mos/filelists (another copy)\")"
   ],
   "metadata": {
    "collapsed": false,
    "pycharm": {
     "name": "#%%\n"
    }
   }
  },
  {
   "cell_type": "code",
   "execution_count": 9,
   "outputs": [],
   "source": [
    "filepaths = [Path(root) / file\n",
    "             for root, dirs, files in os.walk(input_dir)\n",
    "             for file in files\n",
    "             if file.endswith('.mp3')]\n",
    "for path in filepaths:\n",
    "    source_name = path.parent.parent.name\n",
    "    os.rename(path, f\"{path.parent}/{source_ids[source_name]}_{path.name}\")\n"
   ],
   "metadata": {
    "collapsed": false,
    "pycharm": {
     "name": "#%%\n"
    }
   }
  }
 ],
 "metadata": {
  "kernelspec": {
   "display_name": "Python 3",
   "language": "python",
   "name": "python3"
  },
  "language_info": {
   "codemirror_mode": {
    "name": "ipython",
    "version": 2
   },
   "file_extension": ".py",
   "mimetype": "text/x-python",
   "name": "python",
   "nbconvert_exporter": "python",
   "pygments_lexer": "ipython2",
   "version": "2.7.6"
  }
 },
 "nbformat": 4,
 "nbformat_minor": 0
}