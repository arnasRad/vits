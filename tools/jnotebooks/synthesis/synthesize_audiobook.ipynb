{
 "cells": [
  {
   "cell_type": "code",
   "execution_count": 1,
   "outputs": [],
   "source": [
    "%matplotlib inline\n",
    "\n",
    "# uncomment if ModuleNotFoundError is thrown\n",
    "# import sys\n",
    "# sys.path.append(\"/home/arnas/inovoice/repos/vits\")\n",
    "\n",
    "import os\n",
    "from datetime import datetime\n",
    "from pathlib import Path\n",
    "from typing import List\n",
    "\n",
    "from scipy.io.wavfile import write\n",
    "from tqdm import tqdm\n",
    "\n",
    "from src.audio.concat import concat_2d_array_audios_with_silence\n",
    "from src.file import read_book\n",
    "from src.model.config import Speaker, get_inference_configs\n",
    "from src.model.synthesizer import Synthesizer\n",
    "from src.srt import generate_and_save_audiobook_srt\n",
    "from src.text.split import split_lines_to_sentences\n",
    "from src.model.config import InferenceConfig\n"
   ],
   "metadata": {
    "collapsed": false
   }
  },
  {
   "cell_type": "code",
   "execution_count": 2,
   "outputs": [],
   "source": [
    "def synthesize_book(config: InferenceConfig, chapters, out_dir: Path):\n",
    "    for idx, chapter in enumerate(chapters, start=1):\n",
    "        chapter_sentences = split_lines_to_sentences(chapter)\n",
    "\n",
    "        print(f\"Synthesizing chapter {idx}/{len(chapters)}\")\n",
    "        audios = synthesize_chapter(chapter_sentences, config.synthesizer)\n",
    "\n",
    "        audiobook = concat_2d_array_audios_with_silence(audios,\n",
    "                                                        silence_between_dim1=silence_between_sentences,\n",
    "                                                        silence_between_dim2=silence_between_paragraphs,\n",
    "                                                        sr=config.synthesizer.sample_rate)\n",
    "\n",
    "        write(f\"{out_dir}/{idx}.wav\", config.synthesizer.sample_rate, audiobook)\n",
    "\n",
    "        generate_and_save_audiobook_srt(audios, chapter_sentences, config.synthesizer.sample_rate, silence_between_sentences,\n",
    "                                                  silence_between_paragraphs, Path(f\"{out_dir}/{idx}.srt\"))\n",
    "\n",
    "def synthesize_chapter(chapter_sentences, synthesizer: Synthesizer):\n",
    "    return [\n",
    "        [synthesizer.synthesize(sentence).audio for sentence in sentences if sentence]\n",
    "        for sentences in tqdm(chapter_sentences)\n",
    "    ]\n",
    "\n",
    "def load_book_chapters(input_dir: Path,) -> List[List[str]]:\n",
    "    filepaths = [Path(input_dir) / file for file in os.listdir(input_dir)]\n",
    "\n",
    "    return [read_book(filepath) for filepath in filepaths]"
   ],
   "metadata": {
    "collapsed": false
   }
  },
  {
   "cell_type": "code",
   "execution_count": null,
   "outputs": [],
   "source": [
    "configs = get_inference_configs(speakers=[Speaker.GIEDRIUS_STUDIO_44, Speaker.AURIMAS_STUDIO_44, Speaker.MILDA_STUDIO_44],\n",
    "                                device=0, audiobook_synthesis=True)"
   ],
   "metadata": {
    "collapsed": false,
    "pycharm": {
     "is_executing": true
    }
   }
  },
  {
   "cell_type": "code",
   "execution_count": 4,
   "outputs": [],
   "source": [
    "silence_between_sentences = 0.5\n",
    "silence_between_paragraphs = 1.5"
   ],
   "metadata": {
    "collapsed": false
   }
  },
  {
   "cell_type": "code",
   "execution_count": 5,
   "outputs": [],
   "source": [
    "input_base_dir = Path(\"/home/arnas/inovoice/data/text/audiobooks\")\n",
    "output_base_dir = Path(\"/home/arnas/inovoice/repos/vits/files/audio/audiobooks\")\n",
    "# book_name = \"teka-upe-pro-sali\"\n",
    "book_name = \"monologas-savam-kieme\"\n",
    "chapters = load_book_chapters(input_dir=input_base_dir / f\"{book_name}-chapters\")"
   ],
   "metadata": {
    "collapsed": false
   }
  },
  {
   "cell_type": "code",
   "execution_count": null,
   "outputs": [],
   "source": [
    "for speaker, config in configs.items():\n",
    "    print(f\"Using `{speaker.value}` synthesizer\")\n",
    "    out_book_name = f'{book_name}_{datetime.now().strftime(\"%Y-%d-%m_%H-%M-%S\")}'\n",
    "    output_dir = output_base_dir / speaker.value / str(config.checkpoint_step) / out_book_name\n",
    "    output_dir.mkdir(parents=True, exist_ok=True)\n",
    "\n",
    "    synthesize_book(config, chapters, output_dir)"
   ],
   "metadata": {
    "collapsed": false,
    "pycharm": {
     "is_executing": true
    }
   }
  },
  {
   "cell_type": "code",
   "execution_count": null,
   "outputs": [],
   "source": [],
   "metadata": {
    "collapsed": false
   }
  }
 ],
 "metadata": {
  "kernelspec": {
   "display_name": "Python 3",
   "language": "python",
   "name": "python3"
  },
  "language_info": {
   "codemirror_mode": {
    "name": "ipython",
    "version": 3
   },
   "file_extension": ".py",
   "mimetype": "text/x-python",
   "name": "python",
   "nbconvert_exporter": "python",
   "pygments_lexer": "ipython3",
   "version": "3.7.7"
  }
 },
 "nbformat": 4,
 "nbformat_minor": 4
}
