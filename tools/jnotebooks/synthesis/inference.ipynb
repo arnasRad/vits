{
 "cells": [
  {
   "cell_type": "code",
   "execution_count": 1,
   "metadata": {},
   "outputs": [],
   "source": [
    "# uncomment if ModuleNotFoundError is thrown when importing modules\n",
    "# import sys\n",
    "# sys.path.append(\"/home/arnas/inovoice/repos/vits\")\n",
    "\n",
    "from src.model.config import get_inference_configs\n",
    "from src.model.config import Speaker\n",
    "\n",
    "from src.text.test_sentences import kur_vasara_amzina_sentences, witty_sentences, masters_sentences\n",
    "\n",
    "%matplotlib inline"
   ]
  },
  {
   "cell_type": "code",
   "execution_count": 2,
   "outputs": [],
   "source": [
    "sents = witty_sentences + kur_vasara_amzina_sentences + masters_sentences"
   ],
   "metadata": {
    "collapsed": false
   }
  },
  {
   "cell_type": "code",
   "execution_count": null,
   "outputs": [],
   "source": [
    "configs = get_inference_configs(speakers=[Speaker.AURIMAS_STUDIO_44, ],\n",
    "                                device=0, audiobook_synthesis=False)"
   ],
   "metadata": {
    "collapsed": false,
    "pycharm": {
     "is_executing": true
    }
   }
  },
  {
   "cell_type": "code",
   "execution_count": null,
   "outputs": [],
   "source": [
    "for speaker, config in configs.items():\n",
    "    config.synthesizer.synthesize_all(sents, plot_align=False, output_dir=config.output_dir)"
   ],
   "metadata": {
    "collapsed": false,
    "pycharm": {
     "is_executing": true
    }
   }
  }
 ],
 "metadata": {
  "kernelspec": {
   "display_name": "Python 3",
   "language": "python",
   "name": "python3"
  },
  "language_info": {
   "codemirror_mode": {
    "name": "ipython",
    "version": 3
   },
   "file_extension": ".py",
   "mimetype": "text/x-python",
   "name": "python",
   "nbconvert_exporter": "python",
   "pygments_lexer": "ipython3",
   "version": "3.7.7"
  }
 },
 "nbformat": 4,
 "nbformat_minor": 4
}
