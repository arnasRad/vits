{
 "cells": [
  {
   "cell_type": "code",
   "execution_count": 5,
   "outputs": [],
   "source": [
    "import os\n",
    "from pathlib import Path\n",
    "from dataclasses import dataclass\n",
    "from pydub import AudioSegment\n",
    "\n",
    "@dataclass\n",
    "class InOut:\n",
    "    in_path: Path\n",
    "    out_path: Path\n",
    "\n",
    "input_dir = Path(\"/media/arnas/SSD Disk/uni/semester_4/thesis-files/test_samples/giedrius_altoriu_sesely\")\n",
    "output_dir = input_dir / 'mp3'\n",
    "output_dir.mkdir(parents=True, exist_ok=True)\n",
    "\n",
    "paths = [InOut(in_path=input_dir / file, out_path=output_dir / file.replace('.wav', '.mp3')) for file in os.listdir(input_dir) if file.endswith('.wav')]"
   ],
   "metadata": {
    "collapsed": false,
    "pycharm": {
     "name": "#%%\n"
    }
   }
  },
  {
   "cell_type": "code",
   "execution_count": 6,
   "outputs": [],
   "source": [
    "for path in paths:\n",
    "    AudioSegment.from_wav(path.in_path).export(path.out_path, format=\"mp3\", bitrate='192k')\n"
   ],
   "metadata": {
    "collapsed": false,
    "pycharm": {
     "name": "#%%\n"
    }
   }
  }
 ],
 "metadata": {
  "kernelspec": {
   "display_name": "Python 3",
   "language": "python",
   "name": "python3"
  },
  "language_info": {
   "codemirror_mode": {
    "name": "ipython",
    "version": 2
   },
   "file_extension": ".py",
   "mimetype": "text/x-python",
   "name": "python",
   "nbconvert_exporter": "python",
   "pygments_lexer": "ipython2",
   "version": "2.7.6"
  }
 },
 "nbformat": 4,
 "nbformat_minor": 0
}