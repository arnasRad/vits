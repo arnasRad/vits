{
 "cells": [
  {
   "cell_type": "code",
   "execution_count": 17,
   "metadata": {
    "collapsed": true,
    "pycharm": {
     "name": "#%%\n"
    }
   },
   "outputs": [],
   "source": [
    "import random\n",
    "from pathlib import Path\n",
    "from typing import List\n",
    "\n",
    "from src.zipper.core import TestSet, InOutPair\n",
    "\n",
    "\n",
    "def source_keys_with_max_samples_left(sources_dict: dict) -> List[str]:\n",
    "    max_value = max(sources_dict.values())\n",
    "    return [key for key, value in sources_dict.items() if value == max_value]"
   ]
  },
  {
   "cell_type": "code",
   "execution_count": 18,
   "outputs": [],
   "source": [
    "utterances_per_source = 36\n",
    "samples_per_hit = 5\n",
    "out_dir = Path(\"/media/arnas/SSD Disk/uni/semester_4/thesis-files/mos/lt_synthesizer_survey\")\n",
    "out_dir.mkdir(parents=True, exist_ok=True)\n",
    "data_filepath = out_dir / \"mos_data.txt\"\n",
    "utterances_filepath = out_dir / \"mos_utterances.txt\"\n",
    "dataset_filelists = {\n",
    "    'aurimas': Path(\"/media/arnas/SSD Disk/uni/semester_4/thesis-files/mos/lt_synthesizer_survey/aurimas/filelist.txt\"),\n",
    "}\n",
    "dataset_entries = {name: TestSet.from_in_out_pair(InOutPair(in_filepath=path, out_directory=Path(\".\"))).entries\n",
    "                   for name, path in dataset_filelists.items()}\n",
    "dataset_entries = {name: random.sample(entries, utterances_per_source) for name, entries in dataset_entries.items()}\n",
    "\n",
    "datasets = [dataset for dataset in dataset_filelists]\n",
    "sources = [\n",
    "    \"aurimas\",\n",
    "    \"microsoft_leonas\",\n",
    "    \"liepa_edvardas\",\n",
    "    \"vdu\",\n",
    "]\n",
    "sources_samples_left = {source: utterances_per_source for source in sources}\n",
    "source_filelists = {source: [] for source in sources}\n",
    "\n",
    "dataset_ids = {name: idx for idx, name in enumerate(datasets)}\n",
    "source_ids = {name: idx for idx, name in enumerate(sources)}\n",
    "utterance_ids = {name: idx for idx, name in enumerate([str(entry.path)\n",
    "                                                       for name, entries in dataset_entries.items()\n",
    "                                                       for entry in entries])}\n",
    "# text: List[source]"
   ],
   "metadata": {
    "collapsed": false,
    "pycharm": {
     "name": "#%%\n"
    }
   }
  },
  {
   "cell_type": "code",
   "execution_count": 19,
   "outputs": [],
   "source": [
    "hits = dict()\n",
    "for dataset in datasets:\n",
    "    for entry in dataset_entries[dataset]:\n",
    "        keys = source_keys_with_max_samples_left(sources_samples_left)\n",
    "        curr_sources = random.sample(keys, samples_per_hit-1) # -1 for groundtruth\n",
    "        hit = [dataset] + [source for source in curr_sources]\n",
    "        random.shuffle(hit)\n",
    "        hits[str(dataset_filelists[dataset].stem / entry.path)] = (hit, entry.text)\n",
    "        for source in curr_sources:\n",
    "            sources_samples_left[source] -= 1\n",
    "            source_filelists[source].append(entry)\n"
   ],
   "metadata": {
    "collapsed": false,
    "pycharm": {
     "name": "#%%\n"
    }
   }
  },
  {
   "cell_type": "code",
   "execution_count": 20,
   "outputs": [
    {
     "name": "stdout",
     "output_type": "stream",
     "text": [
      "Before shuffle:\n",
      "{'filelist/si_geguze_yra_neiprasta_vesi_ir_net_musa_vesumo_rekordus.wav': (['vdu', 'aurimas', 'microsoft_leonas', 'aurimas', 'liepa_edvardas'], 'si_geguze_yra_neiprastai_vesi_ir_net_musa'), 'filelist/konfiskavus_gyvuna_draudimas_ji_isigyti.wav': (['aurimas', 'microsoft_leonas', 'vdu', 'aurimas', 'liepa_edvardas'], 'konfiskavus_gyvuna_draudimas_ji_isigyti_ir_laikyti_butu'), 'filelist/taigi_sodininkai_gali_dziugauti.wav': (['aurimas', 'liepa_edvardas', 'aurimas', 'microsoft_leonas', 'vdu'], '_taigi_sodininkai_gali_dziugauti_ir_trinti_rankomis'), 'filelist/nors_kognityviniu_gebejimu_skirtumas_buvo_nedidelis.wav': (['microsoft_leonas', 'aurimas', 'aurimas', 'vdu', 'liepa_edvardas'], 'nors_kognityviniu_gebejimu_skirtumas_buvo_nedidelis_ir_nepakankamas'), 'filelist/pasak_istatymo_iniciatores.wav': (['vdu', 'aurimas', 'aurimas', 'liepa_edvardas', 'microsoft_leonas'], 'pasak_istatymo_iniciatores_seimo_laisves_frakcijos_nares_ievos'), 'filelist/pavyzdziui_ore_ne_dirvos_pavirsiuje.wav': (['liepa_edvardas', 'vdu', 'microsoft_leonas', 'aurimas', 'aurimas'], '_pavyzdziui_ore_ne_dirvos_pavirsiuje_o_paciame'), 'filelist/pranesama_kad_nuo_invazijos_pradzios.wav': (['aurimas', 'microsoft_leonas', 'liepa_edvardas', 'aurimas', 'vdu'], 'pranesama_kad_nuo_invazijos_pradzios_rusija_ukrainoje_neteko'), 'filelist/seimas_emesi_gyvunu_geroves_ir_apsaugos_istatymo.wav': (['aurimas', 'microsoft_leonas', 'liepa_edvardas', 'vdu', 'aurimas'], 'seimas_emesi_gyvunu_geroves_ir_apsaugos_istatymo_kuriuo'), 'filelist/siuo_projektu_siekiama_apsisaugoti_nuo_tu.wav': (['aurimas', 'liepa_edvardas', 'aurimas', 'microsoft_leonas', 'vdu'], '_siuo_projektu_siekiama_apsisaugoti_nuo_tu_pakartotiniu'), 'filelist/is_viso_rajone_yra_penki_sovietiniai.wav': (['microsoft_leonas', 'liepa_edvardas', 'vdu', 'aurimas', 'aurimas'], 'is_viso_rajone_yra_penki_sovietiniai_atminimo_zenklai'), 'filelist/draudimas_butu_taikomas.wav': (['vdu', 'aurimas', 'microsoft_leonas', 'liepa_edvardas', 'aurimas'], 'draudimas_butu_taikomas_nuo_dvieju_iki_desimties_metu'), 'filelist/tyrimas_turetu_buti_naudingas.wav': (['vdu', 'liepa_edvardas', 'microsoft_leonas', 'aurimas', 'aurimas'], 'tyrimas_turetu_buti_naudingas_diskusijose_del_to_kiek'), 'filelist/bet_ar_pavyks_ekspertai_labai_abejoja.wav': (['aurimas', 'aurimas', 'liepa_edvardas', 'vdu', 'microsoft_leonas'], 'bet_ar_pavyks_ekspertai_labai_abejoja_o_smaikstuoliai'), 'filelist/mariupolyje_slopstant_aktyviems_karo_vieksmams.wav': (['aurimas', 'microsoft_leonas', 'liepa_edvardas', 'vdu', 'aurimas'], 'mariupolyje_slopstant_aktyviems_karo_veiksmams_miesto_valdzia_ir'), 'filelist/sprendimas_kuris_mano_manymu_turejo_buti_piimtas.wav': (['liepa_edvardas', 'vdu', 'microsoft_leonas', 'aurimas', 'aurimas'], '_sprendimas_kuris_mano_manymu_turejo_buti_priimtas'), 'filelist/velu_ketvirtadienio_vakara_paaiskejo.wav': (['aurimas', 'vdu', 'liepa_edvardas', 'microsoft_leonas', 'aurimas'], 'velu_ketvirtadienio_vakara_paaiskejo_stambulo_anadolu_efes_varzovai'), 'filelist/nezinia_ar_juoktis_ar_verkti.wav': (['liepa_edvardas', 'aurimas', 'microsoft_leonas', 'vdu', 'aurimas'], 'nezinia__verkti_ar_juoktis_kai_rusijai_rimtai'), 'filelist/pasak_kremliaus_atstovo_naujo.wav': (['aurimas', 'microsoft_leonas', 'vdu', 'aurimas', 'liepa_edvardas'], 'pasak_kremliaus_atstovo_naujo_moskviciaus_noretu_ir_vladimiras'), 'filelist/vis_delto_panasu_kad_dziugauti_jie_kol_kas.wav': (['aurimas', 'vdu', 'aurimas', 'liepa_edvardas', 'microsoft_leonas'], 'vis_delto_panasu_kad_dziugauti_jie_kol_kas'), 'filelist/tuo_tarpu_neatrode_kad.wav': (['aurimas', 'aurimas', 'microsoft_leonas', 'vdu', 'liepa_edvardas'], 'tuo_tarpu_neatrode_kad_televizijos_ziurejimas_ir_naudojimasis'), 'filelist/valdantieji_tikisi_jau_penktadieni_isgirsti.wav': (['vdu', 'liepa_edvardas', 'aurimas', 'aurimas', 'microsoft_leonas'], 'valdantieji_tikisi_jau_penktadieni_isgirsti_partiju_sprendimus_del'), 'filelist/ekspertu_teigimu_del_to_kalti.wav': (['aurimas', 'aurimas', 'microsoft_leonas', 'liepa_edvardas', 'vdu'], 'ekspertu_teigimu_del_to_kalti_pazangus_priestankiniai_ginklai'), 'filelist/mokslininkai_susiejo_daugiau_praleidziamo_laiko_zaidziant_vaizdo.wav': (['liepa_edvardas', 'microsoft_leonas', 'aurimas', 'vdu', 'aurimas'], 'mokslininkai_susiejo_daugiau_praleidziamo_laiko_zaidziant_vaizdo_zaidimus'), 'filelist/nuskriausti_neliks_ir_kitu.wav': (['vdu', 'liepa_edvardas', 'aurimas', 'microsoft_leonas', 'aurimas'], 'nuskriausti_neliks_ir_kitu_regionu_gyventojai__didziojoje'), 'filelist/ta_patvirtindama_marcinioniene_sako.wav': (['aurimas', 'vdu', 'microsoft_leonas', 'liepa_edvardas', 'aurimas'], 'ta_patvirtindama_marcinoniene_sako_kad_pastarosiomis_naktimis_kai'), 'filelist/miesto_meras_sako.wav': (['aurimas', 'liepa_edvardas', 'microsoft_leonas', 'aurimas', 'vdu'], 'miesto_meras_sako_kad_sudetinga_humanitarine_situacija_gali'), 'filelist/didziosios_britanis_premjeras.wav': (['microsoft_leonas', 'vdu', 'liepa_edvardas', 'aurimas', 'aurimas'], 'didziosios_britanijos_premjeras_borisas_dzonsonas_ketvirtadieni_tviteryje_informavo'), 'filelist/jais_tapo_madrido_real_krepsininkai.wav': (['vdu', 'aurimas', 'liepa_edvardas', 'aurimas', 'microsoft_leonas'], 'jais_tapo_madrido_real_krepsininkai'), 'filelist/gera_zinia_ta_kad_praejusi_naktis.wav': (['vdu', 'aurimas', 'aurimas', 'microsoft_leonas', 'liepa_edvardas'], '_gera_zinia_ta_kad_praejusi_naktis_buvo'), 'filelist/svarbus_ivykis.wav': (['microsoft_leonas', 'aurimas', 'liepa_edvardas', 'vdu', 'aurimas'], '_svarbus_ivykis'), 'filelist/vasariska_siluma_rytoj_labiausiai_dziaugsis.wav': (['aurimas', 'microsoft_leonas', 'liepa_edvardas', 'vdu', 'aurimas'], 'vasariska_siluma_rytoj_labiausiai_dziaugsis_dzukai_ir_suvalkieciai'), 'filelist/tai_paskutines_naktys.wav': (['aurimas', 'liepa_edvardas', 'aurimas', 'vdu', 'microsoft_leonas'], '_tai_paskutines_naktys_tikrai_buvo_saltos_musu'), 'filelist/vis_tik_siluma_pasidziaugsime_neilgai.wav': (['liepa_edvardas', 'microsoft_leonas', 'aurimas', 'aurimas', 'vdu'], 'vis_tik_siluma_pasidziaugsime_neilgai__savaitgalis_prognozuojamas'), 'filelist/raseiniu_savivaldybes_taryba_ketvirtadieni.wav': (['aurimas', 'microsoft_leonas', 'liepa_edvardas', 'vdu', 'aurimas'], 'raseiniu_savivaldybes_taryba_ketvirtadieni_pritare_sovietiniu_paminklu_rajone'), 'filelist/gera_zinia_ta.wav': (['aurimas', 'vdu', 'microsoft_leonas', 'aurimas', 'liepa_edvardas'], 'gera_zinia_ta_kad_vasariskos_silumos_ir_sausu'), 'filelist/didziausia_intriga_kaip_atrodys.wav': (['vdu', 'liepa_edvardas', 'aurimas', 'aurimas', 'microsoft_leonas'], 'didziausia_intriga__kaip_atrodys_rusiskas_moskvicius_kuri')}\n",
      "\n",
      "\n",
      "\n",
      "After shuffle:\n",
      "{'filelist/vasariska_siluma_rytoj_labiausiai_dziaugsis.wav': (['aurimas', 'microsoft_leonas', 'liepa_edvardas', 'vdu', 'aurimas'], 'vasariska_siluma_rytoj_labiausiai_dziaugsis_dzukai_ir_suvalkieciai'), 'filelist/didziausia_intriga_kaip_atrodys.wav': (['vdu', 'liepa_edvardas', 'aurimas', 'aurimas', 'microsoft_leonas'], 'didziausia_intriga__kaip_atrodys_rusiskas_moskvicius_kuri'), 'filelist/taigi_sodininkai_gali_dziugauti.wav': (['aurimas', 'liepa_edvardas', 'aurimas', 'microsoft_leonas', 'vdu'], '_taigi_sodininkai_gali_dziugauti_ir_trinti_rankomis'), 'filelist/pasak_kremliaus_atstovo_naujo.wav': (['aurimas', 'microsoft_leonas', 'vdu', 'aurimas', 'liepa_edvardas'], 'pasak_kremliaus_atstovo_naujo_moskviciaus_noretu_ir_vladimiras'), 'filelist/gera_zinia_ta_kad_praejusi_naktis.wav': (['vdu', 'aurimas', 'aurimas', 'microsoft_leonas', 'liepa_edvardas'], '_gera_zinia_ta_kad_praejusi_naktis_buvo'), 'filelist/siuo_projektu_siekiama_apsisaugoti_nuo_tu.wav': (['aurimas', 'liepa_edvardas', 'aurimas', 'microsoft_leonas', 'vdu'], '_siuo_projektu_siekiama_apsisaugoti_nuo_tu_pakartotiniu'), 'filelist/vis_delto_panasu_kad_dziugauti_jie_kol_kas.wav': (['aurimas', 'vdu', 'aurimas', 'liepa_edvardas', 'microsoft_leonas'], 'vis_delto_panasu_kad_dziugauti_jie_kol_kas'), 'filelist/nezinia_ar_juoktis_ar_verkti.wav': (['liepa_edvardas', 'aurimas', 'microsoft_leonas', 'vdu', 'aurimas'], 'nezinia__verkti_ar_juoktis_kai_rusijai_rimtai'), 'filelist/tuo_tarpu_neatrode_kad.wav': (['aurimas', 'aurimas', 'microsoft_leonas', 'vdu', 'liepa_edvardas'], 'tuo_tarpu_neatrode_kad_televizijos_ziurejimas_ir_naudojimasis'), 'filelist/mariupolyje_slopstant_aktyviems_karo_vieksmams.wav': (['aurimas', 'microsoft_leonas', 'liepa_edvardas', 'vdu', 'aurimas'], 'mariupolyje_slopstant_aktyviems_karo_veiksmams_miesto_valdzia_ir'), 'filelist/didziosios_britanis_premjeras.wav': (['microsoft_leonas', 'vdu', 'liepa_edvardas', 'aurimas', 'aurimas'], 'didziosios_britanijos_premjeras_borisas_dzonsonas_ketvirtadieni_tviteryje_informavo'), 'filelist/vis_tik_siluma_pasidziaugsime_neilgai.wav': (['liepa_edvardas', 'microsoft_leonas', 'aurimas', 'aurimas', 'vdu'], 'vis_tik_siluma_pasidziaugsime_neilgai__savaitgalis_prognozuojamas'), 'filelist/valdantieji_tikisi_jau_penktadieni_isgirsti.wav': (['vdu', 'liepa_edvardas', 'aurimas', 'aurimas', 'microsoft_leonas'], 'valdantieji_tikisi_jau_penktadieni_isgirsti_partiju_sprendimus_del'), 'filelist/pasak_istatymo_iniciatores.wav': (['vdu', 'aurimas', 'aurimas', 'liepa_edvardas', 'microsoft_leonas'], 'pasak_istatymo_iniciatores_seimo_laisves_frakcijos_nares_ievos'), 'filelist/draudimas_butu_taikomas.wav': (['vdu', 'aurimas', 'microsoft_leonas', 'liepa_edvardas', 'aurimas'], 'draudimas_butu_taikomas_nuo_dvieju_iki_desimties_metu'), 'filelist/konfiskavus_gyvuna_draudimas_ji_isigyti.wav': (['aurimas', 'microsoft_leonas', 'vdu', 'aurimas', 'liepa_edvardas'], 'konfiskavus_gyvuna_draudimas_ji_isigyti_ir_laikyti_butu'), 'filelist/mokslininkai_susiejo_daugiau_praleidziamo_laiko_zaidziant_vaizdo.wav': (['liepa_edvardas', 'microsoft_leonas', 'aurimas', 'vdu', 'aurimas'], 'mokslininkai_susiejo_daugiau_praleidziamo_laiko_zaidziant_vaizdo_zaidimus'), 'filelist/pranesama_kad_nuo_invazijos_pradzios.wav': (['aurimas', 'microsoft_leonas', 'liepa_edvardas', 'aurimas', 'vdu'], 'pranesama_kad_nuo_invazijos_pradzios_rusija_ukrainoje_neteko'), 'filelist/gera_zinia_ta.wav': (['aurimas', 'vdu', 'microsoft_leonas', 'aurimas', 'liepa_edvardas'], 'gera_zinia_ta_kad_vasariskos_silumos_ir_sausu'), 'filelist/miesto_meras_sako.wav': (['aurimas', 'liepa_edvardas', 'microsoft_leonas', 'aurimas', 'vdu'], 'miesto_meras_sako_kad_sudetinga_humanitarine_situacija_gali'), 'filelist/raseiniu_savivaldybes_taryba_ketvirtadieni.wav': (['aurimas', 'microsoft_leonas', 'liepa_edvardas', 'vdu', 'aurimas'], 'raseiniu_savivaldybes_taryba_ketvirtadieni_pritare_sovietiniu_paminklu_rajone'), 'filelist/tyrimas_turetu_buti_naudingas.wav': (['vdu', 'liepa_edvardas', 'microsoft_leonas', 'aurimas', 'aurimas'], 'tyrimas_turetu_buti_naudingas_diskusijose_del_to_kiek'), 'filelist/bet_ar_pavyks_ekspertai_labai_abejoja.wav': (['aurimas', 'aurimas', 'liepa_edvardas', 'vdu', 'microsoft_leonas'], 'bet_ar_pavyks_ekspertai_labai_abejoja_o_smaikstuoliai'), 'filelist/jais_tapo_madrido_real_krepsininkai.wav': (['vdu', 'aurimas', 'liepa_edvardas', 'aurimas', 'microsoft_leonas'], 'jais_tapo_madrido_real_krepsininkai'), 'filelist/ta_patvirtindama_marcinioniene_sako.wav': (['aurimas', 'vdu', 'microsoft_leonas', 'liepa_edvardas', 'aurimas'], 'ta_patvirtindama_marcinoniene_sako_kad_pastarosiomis_naktimis_kai'), 'filelist/sprendimas_kuris_mano_manymu_turejo_buti_piimtas.wav': (['liepa_edvardas', 'vdu', 'microsoft_leonas', 'aurimas', 'aurimas'], '_sprendimas_kuris_mano_manymu_turejo_buti_priimtas'), 'filelist/tai_paskutines_naktys.wav': (['aurimas', 'liepa_edvardas', 'aurimas', 'vdu', 'microsoft_leonas'], '_tai_paskutines_naktys_tikrai_buvo_saltos_musu'), 'filelist/is_viso_rajone_yra_penki_sovietiniai.wav': (['microsoft_leonas', 'liepa_edvardas', 'vdu', 'aurimas', 'aurimas'], 'is_viso_rajone_yra_penki_sovietiniai_atminimo_zenklai'), 'filelist/nors_kognityviniu_gebejimu_skirtumas_buvo_nedidelis.wav': (['microsoft_leonas', 'aurimas', 'aurimas', 'vdu', 'liepa_edvardas'], 'nors_kognityviniu_gebejimu_skirtumas_buvo_nedidelis_ir_nepakankamas'), 'filelist/pavyzdziui_ore_ne_dirvos_pavirsiuje.wav': (['liepa_edvardas', 'vdu', 'microsoft_leonas', 'aurimas', 'aurimas'], '_pavyzdziui_ore_ne_dirvos_pavirsiuje_o_paciame'), 'filelist/velu_ketvirtadienio_vakara_paaiskejo.wav': (['aurimas', 'vdu', 'liepa_edvardas', 'microsoft_leonas', 'aurimas'], 'velu_ketvirtadienio_vakara_paaiskejo_stambulo_anadolu_efes_varzovai'), 'filelist/nuskriausti_neliks_ir_kitu.wav': (['vdu', 'liepa_edvardas', 'aurimas', 'microsoft_leonas', 'aurimas'], 'nuskriausti_neliks_ir_kitu_regionu_gyventojai__didziojoje'), 'filelist/seimas_emesi_gyvunu_geroves_ir_apsaugos_istatymo.wav': (['aurimas', 'microsoft_leonas', 'liepa_edvardas', 'vdu', 'aurimas'], 'seimas_emesi_gyvunu_geroves_ir_apsaugos_istatymo_kuriuo'), 'filelist/ekspertu_teigimu_del_to_kalti.wav': (['aurimas', 'aurimas', 'microsoft_leonas', 'liepa_edvardas', 'vdu'], 'ekspertu_teigimu_del_to_kalti_pazangus_priestankiniai_ginklai'), 'filelist/si_geguze_yra_neiprasta_vesi_ir_net_musa_vesumo_rekordus.wav': (['vdu', 'aurimas', 'microsoft_leonas', 'aurimas', 'liepa_edvardas'], 'si_geguze_yra_neiprastai_vesi_ir_net_musa'), 'filelist/svarbus_ivykis.wav': (['microsoft_leonas', 'aurimas', 'liepa_edvardas', 'vdu', 'aurimas'], '_svarbus_ivykis')}\n"
     ]
    }
   ],
   "source": [
    "print(\"Before shuffle:\")\n",
    "print(hits)\n",
    "keys = list(hits.keys())\n",
    "random.shuffle(keys)\n",
    "hits = {key: hits[key] for key in keys}\n",
    "print(\"\\n\\n\\nAfter shuffle:\")\n",
    "print(hits)"
   ],
   "metadata": {
    "collapsed": false,
    "pycharm": {
     "name": "#%%\n"
    }
   }
  },
  {
   "cell_type": "code",
   "execution_count": 21,
   "outputs": [
    {
     "name": "stdout",
     "output_type": "stream",
     "text": [
      "{'aurimas': 0}\n",
      "{'aurimas': 0, 'microsoft_leonas': 1, 'liepa_edvardas': 2, 'vdu': 3}\n",
      "{'si_geguze_yra_neiprasta_vesi_ir_net_musa_vesumo_rekordus.wav': 0, 'konfiskavus_gyvuna_draudimas_ji_isigyti.wav': 1, 'taigi_sodininkai_gali_dziugauti.wav': 2, 'nors_kognityviniu_gebejimu_skirtumas_buvo_nedidelis.wav': 3, 'pasak_istatymo_iniciatores.wav': 4, 'pavyzdziui_ore_ne_dirvos_pavirsiuje.wav': 5, 'pranesama_kad_nuo_invazijos_pradzios.wav': 6, 'seimas_emesi_gyvunu_geroves_ir_apsaugos_istatymo.wav': 7, 'siuo_projektu_siekiama_apsisaugoti_nuo_tu.wav': 8, 'is_viso_rajone_yra_penki_sovietiniai.wav': 9, 'draudimas_butu_taikomas.wav': 10, 'tyrimas_turetu_buti_naudingas.wav': 11, 'bet_ar_pavyks_ekspertai_labai_abejoja.wav': 12, 'mariupolyje_slopstant_aktyviems_karo_vieksmams.wav': 13, 'sprendimas_kuris_mano_manymu_turejo_buti_piimtas.wav': 14, 'velu_ketvirtadienio_vakara_paaiskejo.wav': 15, 'nezinia_ar_juoktis_ar_verkti.wav': 16, 'pasak_kremliaus_atstovo_naujo.wav': 17, 'vis_delto_panasu_kad_dziugauti_jie_kol_kas.wav': 18, 'tuo_tarpu_neatrode_kad.wav': 19, 'valdantieji_tikisi_jau_penktadieni_isgirsti.wav': 20, 'ekspertu_teigimu_del_to_kalti.wav': 21, 'mokslininkai_susiejo_daugiau_praleidziamo_laiko_zaidziant_vaizdo.wav': 22, 'nuskriausti_neliks_ir_kitu.wav': 23, 'ta_patvirtindama_marcinioniene_sako.wav': 24, 'miesto_meras_sako.wav': 25, 'didziosios_britanis_premjeras.wav': 26, 'jais_tapo_madrido_real_krepsininkai.wav': 27, 'gera_zinia_ta_kad_praejusi_naktis.wav': 28, 'svarbus_ivykis.wav': 29, 'vasariska_siluma_rytoj_labiausiai_dziaugsis.wav': 30, 'tai_paskutines_naktys.wav': 31, 'vis_tik_siluma_pasidziaugsime_neilgai.wav': 32, 'raseiniu_savivaldybes_taryba_ketvirtadieni.wav': 33, 'gera_zinia_ta.wav': 34, 'didziausia_intriga_kaip_atrodys.wav': 35}\n"
     ]
    }
   ],
   "source": [
    "print(dataset_ids)\n",
    "print(source_ids)\n",
    "print(utterance_ids)"
   ],
   "metadata": {
    "collapsed": false,
    "pycharm": {
     "name": "#%%\n"
    }
   }
  },
  {
   "cell_type": "code",
   "execution_count": 22,
   "outputs": [],
   "source": [
    "dataset_ids_text = '\\n\\t'.join([f\"{name}: {idx}\" for name, idx in dataset_ids.items()])\n",
    "source_ids_text = '\\n\\t'.join([f\"{name}: {idx}\" for name, idx in source_ids.items()])\n",
    "utterance_ids_text = '\\n\\t'.join([f\"{name}: {idx}\" for name, idx in utterance_ids.items()])\n",
    "\n",
    "text = '\\n'.join([f\"{utterance}: {sources}\" for utterance, sources in hits.items()]) + \"\\n\\n\\n\"\n",
    "\n",
    "text += f\"Dataset ids:\\n\\t{dataset_ids_text}\\n\\n\"\n",
    "text += f\"Source ids:\\n\\t{source_ids_text}\\n\\n\"\n",
    "text += f\"Utterance ids:\\n\\t{utterance_ids_text}\\n\\n\"\n",
    "\n",
    "with open(data_filepath, mode='w', encoding='utf-8') as f:\n",
    "    f.write(text)"
   ],
   "metadata": {
    "collapsed": false,
    "pycharm": {
     "name": "#%%\n"
    }
   }
  },
  {
   "cell_type": "code",
   "execution_count": 23,
   "outputs": [],
   "source": [
    "text = '\\n'.join([f\"{utterance_ids[utterance.split('/')[-1]]}: {sources[0]}\" for utterance, sources in hits.items()])\n",
    "\n",
    "with open(utterances_filepath, mode='w', encoding='utf-8') as f:\n",
    "    f.write(text)\n"
   ],
   "metadata": {
    "collapsed": false,
    "pycharm": {
     "name": "#%%\n"
    }
   }
  },
  {
   "cell_type": "code",
   "execution_count": 24,
   "outputs": [],
   "source": [
    "filelist_out_dir = out_dir / 'filelists'\n",
    "filelist_out_dir.mkdir(parents=True, exist_ok=True)\n",
    "for source, filelist in source_filelists.items():\n",
    "    with open(filelist_out_dir / f\"{source}.txt\", mode='w', encoding='utf-8') as f:\n",
    "        f.write('\\n'.join([f\"{e.path}|{e.text}\" for e in filelist]))\n"
   ],
   "metadata": {
    "collapsed": false,
    "pycharm": {
     "name": "#%%\n"
    }
   }
  }
 ],
 "metadata": {
  "kernelspec": {
   "display_name": "Python 3",
   "language": "python",
   "name": "python3"
  },
  "language_info": {
   "codemirror_mode": {
    "name": "ipython",
    "version": 2
   },
   "file_extension": ".py",
   "mimetype": "text/x-python",
   "name": "python",
   "nbconvert_exporter": "python",
   "pygments_lexer": "ipython2",
   "version": "2.7.6"
  }
 },
 "nbformat": 4,
 "nbformat_minor": 0
}