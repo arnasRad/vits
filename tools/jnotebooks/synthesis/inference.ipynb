{
 "cells": [
  {
   "cell_type": "code",
   "execution_count": 7,
   "metadata": {},
   "outputs": [],
   "source": [
    "import re\n",
    "from src.model.synthesizer import InferenceConfig\n",
    "\n",
    "from src.text.test_sentences import kur_vasara_amzina_sentences, witty_sentences\n",
    "%matplotlib inline"
   ]
  },
  {
   "cell_type": "markdown",
   "source": [
    "## InoVoice TTS"
   ],
   "metadata": {
    "collapsed": false
   }
  },
  {
   "cell_type": "code",
   "execution_count": 8,
   "outputs": [
    {
     "name": "stdout",
     "output_type": "stream",
     "text": [
      "[2022-09-28 09:38:26,815] INFO:PID-954549:MainThread:src.model.checkpoint: Loading checkpoint at /home/aai-labs/inovoice/models/ljs_base_44khz/G_440000.pth\n",
      "[2022-09-28 09:38:27,193] INFO:PID-954549:MainThread:src.model.checkpoint: Loaded checkpoint '/home/aai-labs/inovoice/models/ljs_base_44khz/G_440000.pth' (iteration 1613)\n"
     ]
    }
   ],
   "source": [
    "device=0\n",
    "\n",
    "configs = [\n",
    "    # InferenceConfig(\n",
    "    #     checkpoint_step=150000,\n",
    "    #     hps=hps22,\n",
    "    #     speaker='aurimas_nausedas',\n",
    "    #     stressed=False,\n",
    "    #     device=device,\n",
    "    #     filelist_path=filelist_dir / 'vits_aurimas_ns.txt',\n",
    "    #     output_dir=output_dir / 'vits_aurimas_ns'\n",
    "    # ),\n",
    "    # InferenceConfig(\n",
    "    #     checkpoint_step=150000,\n",
    "    #     hps=hps22,\n",
    "    #     speaker='aurimas_nausedas',\n",
    "    #     stressed=True,\n",
    "    #     device=device,\n",
    "    #     filelist_path=filelist_dir / 'filelist_stressed.txt',\n",
    "    #     output_dir=output_dir / 'vits_aurimas_s'\n",
    "    # ),\n",
    "    # InferenceConfig(\n",
    "    #     checkpoint_step=1305000,\n",
    "    #     hps=hps22,\n",
    "    #     speaker='giedrius_altoriu_sesely',\n",
    "    #     stressed=False,\n",
    "    #     device=device,\n",
    "    #     filelist_path=filelist_dir / 'vits_giedrius_ns.txt',\n",
    "    #     output_dir=output_dir / 'vits_giedrius_ns'\n",
    "    # ),\n",
    "    # InferenceConfig(\n",
    "    #     checkpoint_step=1305000,\n",
    "    #     hps=hps22,\n",
    "    #     speaker='giedrius_altoriu_sesely',\n",
    "    #     stressed=True,\n",
    "    #     device=device,\n",
    "    #     filelist_path=filelist_dir / 'vits_giedrius_s.txt',\n",
    "    #     output_dir=output_dir / 'vits_giedrius_s'\n",
    "    # ),\n",
    "    # InferenceConfig(\n",
    "    #     checkpoint_step=3020000,\n",
    "    #     hps=hps22,\n",
    "    #     speaker='vytautas',\n",
    "    #     stressed=False,\n",
    "    #     device=device,\n",
    "    #     filelist_path=filelist_dir / 'vits_vytautas_ns.txt',\n",
    "    #     output_dir=output_dir / 'vits_vytautas_ns'\n",
    "    # ),\n",
    "    # InferenceConfig(\n",
    "    #     checkpoint_step=3020000,\n",
    "    #     hps=hps22,\n",
    "    #     speaker='vytautas',\n",
    "    #     stressed=True,\n",
    "    #     device=device,\n",
    "    #     filelist_path=filelist_dir / 'vits_vytautas_s.txt',\n",
    "    #     output_dir=output_dir / 'vits_vytautas_s'\n",
    "    # ),\n",
    "    # InferenceConfig(\n",
    "    #     checkpoint_step=60000,\n",
    "    #     config_name='aurimas_44khz',\n",
    "    #     speaker='aurimas_nausedas_44',\n",
    "    #     stressed=True,\n",
    "    #     device=device,\n",
    "    # ),\n",
    "    # InferenceConfig(\n",
    "    #     checkpoint_step=70000,\n",
    "    #     config_name='aurimas_44khz',\n",
    "    #     speaker='aurimas_44',\n",
    "    #     stressed=True,\n",
    "    #     device=device,\n",
    "    # ),\n",
    "    # InferenceConfig(\n",
    "    #     checkpoint_step=55000,\n",
    "    #     config_name='aurimas_studio_44khz',\n",
    "    #     speaker='aurimas_studio_44',\n",
    "    #     stressed=True,\n",
    "    #     device=device,\n",
    "    # ),\n",
    "    # InferenceConfig(\n",
    "    #     checkpoint_step=2175000,\n",
    "    #     config_name='giedrius_44khz',\n",
    "    #     speaker='giedrius_arbaciauskas_base',\n",
    "    #     stressed=True,\n",
    "    #     device=device,\n",
    "    # ),\n",
    "    # InferenceConfig(\n",
    "    #     checkpoint_step=250000,\n",
    "    #     config_name='giedrius_studio_44khz',\n",
    "    #     speaker='giedrius_studio_44_ft_base_mel160',\n",
    "    #     stressed=True,\n",
    "    #     device=device,\n",
    "    # ),\n",
    "    # InferenceConfig(\n",
    "    #     checkpoint_step=40000,\n",
    "    #     config_name='milda_44khz',\n",
    "    #     speaker='milda_44',\n",
    "    #     stressed=True,\n",
    "    #     device=device,\n",
    "    # ),\n",
    "    # InferenceConfig(\n",
    "    #     checkpoint_step=87500,\n",
    "    #     config_name='milda_no_noise_44khz',\n",
    "    #     speaker='milda_no_noise_44',\n",
    "    #     stressed=True,\n",
    "    #     device=device,\n",
    "    # ),\n",
    "    # InferenceConfig(\n",
    "    #     checkpoint_step=36000,\n",
    "    #     config_name='arnas_44khz',\n",
    "    #     speaker='arnas_44',\n",
    "    #     stressed=True,\n",
    "    #     device=device,\n",
    "    # ),\n",
    "    InferenceConfig(\n",
    "        checkpoint_step=440000,\n",
    "        config_name='ljs_base_44khz',\n",
    "        speaker='ljs_base_44khz',\n",
    "        stressed=False,\n",
    "        device=device,\n",
    "    ),\n",
    "]"
   ],
   "metadata": {
    "collapsed": false
   }
  },
  {
   "cell_type": "code",
   "execution_count": 9,
   "outputs": [],
   "source": [
    "sents = [\n",
    "    \"- Jū̃s klaũsote sintezúoto tèksto.\",\n",
    "    \"Vìlniaus universitèto Matemãtikos ir̃ informãtikos fakultètas.\",\n",
    "    \"Vãsara paskutìnių kùrsų studeñtams kasmẽt prasìdeda įtemptaĩ - láukia baigiamų̃jų darbų̃ gynìmai. Vìlniaus universitèto Matemãtikos ir̃ informãtikos fakultetè šiaĩs mẽtais jiẽ prasìdeda gegužė̃s trisdešimt pirmąją ir̃ baĩgsis biržẽlio dešimtą diẽną.\",\n",
    "    \"Žinaĩ, čià tóks ãtvejis - àš nemóku melúoti, todė̃l nesugebė́siu nutylė́ti, kàd tù turì trìs vaikùs.\",\n",
    "    \"Blẽt naãchui pỹdaras negražìnsi skolõs - táu pyzdaã bùs!\",\n",
    "]\n",
    "sents += witty_sentences + kur_vasara_amzina_sentences"
   ],
   "metadata": {
    "collapsed": false
   }
  },
  {
   "cell_type": "code",
   "execution_count": 10,
   "outputs": [],
   "source": [
    "english_sentences = [\n",
    "    \"paying particular attention to the crowd for any unusual activity.\",\n",
    "    \"The only exit from the office in the direction Oswald was moving was through the door to the front stairway.\",\n",
    "    \"the Commission is not able to reach any definite conclusions as to whether or not he was, quote, sane, unquote, under prevailing legal standards.\",\n",
    "    \"After a few years of active exertion the Society was rewarded by fresh legislation.\",\n",
    "    \"Three of these agents occupied positions on the running boards of the car, and the fourth was seated in the car.\",\n",
    "    \"FBI, and the Secret Service.\",\n",
    "    \"However, there is no evidence that these men failed to take any action in Dallas within their power that would have averted the tragedy.\",\n",
    "    \"that he was the leader of a fascist organization, and when I said that even though all of that might be true, just the same he had no right to take his life,\",\n",
    "    \"and stole paper on a much larger scale than Brown.\",\n",
    "    \"A milliner's porter,\",\n",
    "    \"After a moment's hesitation, she told me that he worked at the Texas School Book Depository near the downtown area of Dallas.\",\n",
    "]"
   ],
   "metadata": {
    "collapsed": false
   }
  },
  {
   "cell_type": "code",
   "execution_count": 11,
   "outputs": [],
   "source": [
    "sentences = [re.sub('[\\u0300\\u0301\\u0303]', '', s) for s in english_sentences] if not configs[0].stressed else sents.copy()\n",
    "# sentences = [re.sub('[\\u0300\\u0301\\u0303]', '', s) for s in english_sentences] if not configs[0].stressed else sents.copy()"
   ],
   "metadata": {
    "collapsed": false
   }
  },
  {
   "cell_type": "code",
   "execution_count": 12,
   "outputs": [
    {
     "name": "stdout",
     "output_type": "stream",
     "text": [
      "[2022-09-28 09:38:31,600] INFO:PID-954549:MainThread:src.model.synthesizer: Synthesized 11 utterances.\n"
     ]
    }
   ],
   "source": [
    "for config in configs:\n",
    "    config.synthesizer.synthesize_all(sentences, plot_align=False, output_dir=config.output_dir)\n"
   ],
   "metadata": {
    "collapsed": false
   }
  },
  {
   "cell_type": "code",
   "execution_count": 12,
   "outputs": [],
   "source": [],
   "metadata": {
    "collapsed": false
   }
  }
 ],
 "metadata": {
  "kernelspec": {
   "display_name": "Python 3",
   "language": "python",
   "name": "python3"
  },
  "language_info": {
   "codemirror_mode": {
    "name": "ipython",
    "version": 3
   },
   "file_extension": ".py",
   "mimetype": "text/x-python",
   "name": "python",
   "nbconvert_exporter": "python",
   "pygments_lexer": "ipython3",
   "version": "3.7.7"
  }
 },
 "nbformat": 4,
 "nbformat_minor": 4
}
