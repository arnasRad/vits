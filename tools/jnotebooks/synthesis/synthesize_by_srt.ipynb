{
 "cells": [
  {
   "cell_type": "code",
   "execution_count": 1,
   "outputs": [],
   "source": [
    "%matplotlib inline\n",
    "from pathlib import Path\n",
    "\n",
    "from scipy.io.wavfile import write\n",
    "\n",
    "import utils\n",
    "from src.audio import concatenate_book_audios_with_silence\n",
    "from src.file import read_book\n",
    "from src.srt import generate_and_save_audiobook_srt\n",
    "from src.synthesize import synthesize_book\n",
    "from src.text import split_book_lines_to_sentences\n",
    "from models import SynthesizerTrn\n",
    "from text.symbols import stressed_symbols\n"
   ],
   "metadata": {
    "collapsed": false,
    "pycharm": {
     "name": "#%%\n"
    }
   }
  },
  {
   "cell_type": "code",
   "execution_count": 2,
   "outputs": [],
   "source": [
    "checkpoint_step = '150000'\n",
    "speaker = 'aurimas_nausedas'\n",
    "sample_rate = 22050\n",
    "\n",
    "silence_between_sentences = 0.0 # TODO: [optional? would complicate the generation of srts] pick silence duration from a distribution (e.g. mean - 1.0s, lower bound - 0.5s, upper - 1.5s)\n",
    "silence_between_paragraphs = 1.0\n",
    "\n",
    "book_path = \"/media/arnas/SSD Disk/inovoice/text_data/synthesis-audiobooks/processed/Kur_vasara_amžina_stressed.txt\"\n",
    "\n",
    "output_dir = f\"/home/arnas/Desktop/tdi/bitbucket/vits/files/audio/audiobooks/{speaker}/{checkpoint_step}\"\n",
    "Path(output_dir).mkdir(parents=True, exist_ok=True)\n",
    "output_filename = f'kur_vasara_amzina_{speaker}_{checkpoint_step}'\n",
    "\n",
    "# checkpoint_filepath = f\"/media/arnas/SSD Disk/inovoice/models/text-to-speech/vits/{speaker}/logs/G_{checkpoint_step}.pth\"\n",
    "checkpoint_filepath = f\"/media/arnas/SSD Disk/inovoice/models/text-to-speech/vits/{speaker}/G_{checkpoint_step}.pth\"\n",
    "\n",
    "hps = utils.get_hparams_from_file(\"./configs/mif_stressed.json\")"
   ],
   "metadata": {
    "collapsed": false,
    "pycharm": {
     "name": "#%%\n"
    }
   }
  },
  {
   "cell_type": "code",
   "execution_count": 3,
   "outputs": [
    {
     "name": "stdout",
     "output_type": "stream",
     "text": [
      "[2022-06-08 17:10:30,593] INFO:PID-35393:MainThread:utils: Loading checkpoint at /media/arnas/SSD Disk/inovoice/models/text-to-speech/vits/aurimas_nausedas/G_150000.pth\n"
     ]
    },
    {
     "name": "stderr",
     "output_type": "stream",
     "text": [
      "[INFO] Loading checkpoint at /media/arnas/SSD Disk/inovoice/models/text-to-speech/vits/aurimas_nausedas/G_150000.pth\n"
     ]
    },
    {
     "name": "stdout",
     "output_type": "stream",
     "text": [
      "[2022-06-08 17:10:32,302] INFO:PID-35393:MainThread:utils: Loaded checkpoint '/media/arnas/SSD Disk/inovoice/models/text-to-speech/vits/aurimas_nausedas/G_150000.pth'\n"
     ]
    },
    {
     "name": "stderr",
     "output_type": "stream",
     "text": [
      "[INFO] Loaded checkpoint '/media/arnas/SSD Disk/inovoice/models/text-to-speech/vits/aurimas_nausedas/G_150000.pth'\n"
     ]
    }
   ],
   "source": [
    "net_g = SynthesizerTrn(\n",
    "    len(stressed_symbols),\n",
    "    hps.data.filter_length // 2 + 1,\n",
    "    hps.train.segment_size // hps.data.hop_length,\n",
    "    **hps.model).cuda()\n",
    "_ = net_g.eval()\n",
    "_ = utils.load_checkpoint_for_inference(checkpoint_filepath, net_g)"
   ],
   "metadata": {
    "collapsed": false,
    "pycharm": {
     "name": "#%%\n"
    }
   }
  },
  {
   "cell_type": "code",
   "execution_count": 4,
   "outputs": [],
   "source": [
    "book = read_book(book_path)"
   ],
   "metadata": {
    "collapsed": false,
    "pycharm": {
     "name": "#%%\n"
    }
   }
  },
  {
   "cell_type": "code",
   "execution_count": 5,
   "outputs": [],
   "source": [
    "book_sentences = split_book_lines_to_sentences(book)"
   ],
   "metadata": {
    "collapsed": false,
    "pycharm": {
     "name": "#%%\n"
    }
   }
  },
  {
   "cell_type": "code",
   "execution_count": 6,
   "outputs": [
    {
     "name": "stderr",
     "output_type": "stream",
     "text": [
      "100%|██████████| 1323/1323 [05:01<00:00,  4.38it/s]\n"
     ]
    }
   ],
   "source": [
    "audios = synthesize_book(book_sentences, net_g, hps)"
   ],
   "metadata": {
    "collapsed": false,
    "pycharm": {
     "name": "#%%\n"
    }
   }
  },
  {
   "cell_type": "code",
   "execution_count": 7,
   "outputs": [],
   "source": [
    "audiobook = concatenate_book_audios_with_silence(audios,\n",
    "                                                 sentence_silence=silence_between_sentences,\n",
    "                                                 paragraph_silence=silence_between_paragraphs)"
   ],
   "metadata": {
    "collapsed": false,
    "pycharm": {
     "name": "#%%\n"
    }
   }
  },
  {
   "cell_type": "code",
   "execution_count": 8,
   "outputs": [],
   "source": [
    "entries = generate_and_save_audiobook_srt(audios, book_sentences, sample_rate, silence_between_sentences, silence_between_paragraphs, Path(f\"{output_dir}/{output_filename}.srt\"))"
   ],
   "metadata": {
    "collapsed": false,
    "pycharm": {
     "name": "#%%\n"
    }
   }
  },
  {
   "cell_type": "code",
   "execution_count": 9,
   "outputs": [],
   "source": [
    "write(f\"{output_dir}/{output_filename}.wav\", sample_rate, audiobook)\n"
   ],
   "metadata": {
    "collapsed": false,
    "pycharm": {
     "name": "#%%\n"
    }
   }
  },
  {
   "cell_type": "code",
   "execution_count": 10,
   "outputs": [
    {
     "name": "stdout",
     "output_type": "stream",
     "text": [
      "125\n"
     ]
    }
   ],
   "source": [
    "for i, l in enumerate(book_sentences):\n",
    "    for s in l:\n",
    "        if \"Òlga nuskrìdo į̃ Per̃mę, paskuĩ važiãvo tráukiniu \" in s:\n",
    "            print(i)"
   ],
   "metadata": {
    "collapsed": false,
    "pycharm": {
     "name": "#%%\n"
    }
   }
  },
  {
   "cell_type": "code",
   "execution_count": 10,
   "outputs": [],
   "source": [],
   "metadata": {
    "collapsed": false,
    "pycharm": {
     "name": "#%%\n"
    }
   }
  }
 ],
 "metadata": {
  "kernelspec": {
   "display_name": "Python 3",
   "language": "python",
   "name": "python3"
  },
  "language_info": {
   "codemirror_mode": {
    "name": "ipython",
    "version": 3
   },
   "file_extension": ".py",
   "mimetype": "text/x-python",
   "name": "python",
   "nbconvert_exporter": "python",
   "pygments_lexer": "ipython3",
   "version": "3.7.7"
  }
 },
 "nbformat": 4,
 "nbformat_minor": 4
}