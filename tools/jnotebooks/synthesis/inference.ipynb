{
 "cells": [
  {
   "cell_type": "code",
   "execution_count": 1,
   "metadata": {
    "pycharm": {
     "name": "#%%\n"
    }
   },
   "outputs": [],
   "source": [
    "import re\n",
    "\n",
    "from hparams import HParams\n",
    "from hparams import get_hparams_from_file\n",
    "from src.model.synthesizer import Synthesizer\n",
    "from src.text.test_sentences import kur_vasara_amzina_sentences, witty_sentences\n",
    "%matplotlib inline\n",
    "from pathlib import Path\n",
    "\n",
    "class InferenceConfig:\n",
    "    synthesizer: Synthesizer\n",
    "    stressed: bool\n",
    "    output_dir: Path = None\n",
    "\n",
    "    def __init__(self, hps: HParams, checkpoint_step: int, speaker: str, stressed: bool):\n",
    "        self.stressed = stressed\n",
    "        self.checkpoint_path = Path(f\"/media/arnas/SSD Disk/inovoice/models/text-to-speech/vits/{speaker}/G_{checkpoint_step}.pth\")\n",
    "        self.output_dir = Path(f\"/home/arnas/Desktop/tdi/bitbucket/vits/files/audio/samples/{speaker}/{checkpoint_step}\")\n",
    "        Path(self.output_dir).mkdir(parents=True, exist_ok=True)\n",
    "\n",
    "        self.synthesizer = Synthesizer(hps, self.checkpoint_path)\n",
    "\n",
    "\n",
    "# def synthesize_filelist(config: InferenceConfig, number_of_entries=None):\n",
    "#     test_set = TestSet.from_in_out_pair(InOutPair(in_filepath=config.filelist_path, out_directory=config.output_dir))\n",
    "#     sentences = [entry.text for entry in test_set.entries] if config.stressed else [entry.remove_text_accents() for entry in\n",
    "#                                                                              test_set.entries]\n",
    "#\n",
    "#     indices = list(range(0, len(sentences)))\n",
    "#     if number_of_entries:\n",
    "#         random.shuffle(indices)\n",
    "#         indices = indices[:number_of_entries]\n",
    "#         sentences = [sentences[idx] for idx in indices]\n",
    "#     entries = [test_set.entries[idx] for idx in indices]\n",
    "#\n",
    "#     synthesize_all(\n",
    "#         config.net_g,\n",
    "#         sentences=sentences,\n",
    "#         hps=config.hps,\n",
    "#         plot_align=False,\n",
    "#         verbose=False,\n",
    "#         show_player=False,\n",
    "#         output_dir=test_set.in_out_pair.out_directory)\n",
    "#\n",
    "#     save_output_filelist(entries, out_filepath=test_set.in_out_pair.out_directory / test_set.in_out_pair.in_filepath.name)\n",
    "#\n",
    "# def save_output_filelist(entries, out_filepath):\n",
    "#     entry_lines = [f\"{entry.path.name}|{normalize_sentence_to_filename(entry.text)}|{entry.text}|{entry.remove_text_accents()}\" for entry in entries]\n",
    "#\n",
    "#     text = '\\n'.join(entry_lines)\n",
    "#     with open(out_filepath, mode='w', encoding='utf-8') as f:\n",
    "#         f.write(text)"
   ]
  },
  {
   "cell_type": "markdown",
   "source": [
    "## InoVoice TTS"
   ],
   "metadata": {
    "collapsed": false,
    "pycharm": {
     "name": "#%% md\n"
    }
   }
  },
  {
   "cell_type": "code",
   "execution_count": 2,
   "outputs": [
    {
     "name": "stdout",
     "output_type": "stream",
     "text": [
      "[2022-06-22 13:26:55,028] INFO:PID-41706:MainThread:src.model.checkpoint: Loading checkpoint at /media/arnas/SSD Disk/inovoice/models/text-to-speech/vits/aurimas_nausedas_44khz/G_285000.pth\n"
     ]
    },
    {
     "name": "stderr",
     "output_type": "stream",
     "text": [
      "[INFO] Loading checkpoint at /media/arnas/SSD Disk/inovoice/models/text-to-speech/vits/aurimas_nausedas_44khz/G_285000.pth\n"
     ]
    },
    {
     "name": "stdout",
     "output_type": "stream",
     "text": [
      "[2022-06-22 13:26:55,396] INFO:PID-41706:MainThread:src.model.checkpoint: Loaded checkpoint '/media/arnas/SSD Disk/inovoice/models/text-to-speech/vits/aurimas_nausedas_44khz/G_285000.pth' (iteration 1851)\n"
     ]
    },
    {
     "name": "stderr",
     "output_type": "stream",
     "text": [
      "[INFO] Loaded checkpoint '/media/arnas/SSD Disk/inovoice/models/text-to-speech/vits/aurimas_nausedas_44khz/G_285000.pth' (iteration 1851)\n"
     ]
    },
    {
     "name": "stdout",
     "output_type": "stream",
     "text": [
      "[2022-06-22 13:26:56,096] INFO:PID-41706:MainThread:src.model.checkpoint: Loading checkpoint at /media/arnas/SSD Disk/inovoice/models/text-to-speech/vits/giedrius_altoriu_sesely_44khz/G_305000.pth\n"
     ]
    },
    {
     "name": "stderr",
     "output_type": "stream",
     "text": [
      "[INFO] Loading checkpoint at /media/arnas/SSD Disk/inovoice/models/text-to-speech/vits/giedrius_altoriu_sesely_44khz/G_305000.pth\n"
     ]
    },
    {
     "name": "stdout",
     "output_type": "stream",
     "text": [
      "[2022-06-22 13:26:56,361] INFO:PID-41706:MainThread:src.model.checkpoint: Loaded checkpoint '/media/arnas/SSD Disk/inovoice/models/text-to-speech/vits/giedrius_altoriu_sesely_44khz/G_305000.pth' (iteration 1784)\n"
     ]
    },
    {
     "name": "stderr",
     "output_type": "stream",
     "text": [
      "[INFO] Loaded checkpoint '/media/arnas/SSD Disk/inovoice/models/text-to-speech/vits/giedrius_altoriu_sesely_44khz/G_305000.pth' (iteration 1784)\n"
     ]
    }
   ],
   "source": [
    "hps22 = get_hparams_from_file(\"/home/arnas/Desktop/tdi/bitbucket/vits/files/configs/mif_stressed.json\")\n",
    "hps44 = get_hparams_from_file(\"/home/arnas/Desktop/tdi/bitbucket/vits/files/configs/44khz.json\")\n",
    "# filelist_dir = Path(\"/media/arnas/SSD Disk/uni/semester_4/thesis-files/mos/lt_synthesizer_survey\")\n",
    "# output_dir = Path(\"/media/arnas/SSD Disk/uni/semester_3/master_thesis/repos/lithuanian_synthesis_samples/files/audio/vits\")\n",
    "configs = [\n",
    "    # InferenceConfig(\n",
    "    #     checkpoint_step=150000,\n",
    "    #     hps=hps22,\n",
    "    #     speaker='aurimas_nausedas',\n",
    "    #     stressed=False,\n",
    "    #     filelist_path=filelist_dir / 'vits_aurimas_ns.txt',\n",
    "    #     output_dir=output_dir / 'vits_aurimas_ns'\n",
    "    # ),\n",
    "    # InferenceConfig(\n",
    "    #     checkpoint_step=150000,\n",
    "    #     hps=hps22,\n",
    "    #     speaker='aurimas_nausedas',\n",
    "    #     stressed=True,\n",
    "    #     filelist_path=filelist_dir / 'filelist_stressed.txt',\n",
    "    #     output_dir=output_dir / 'vits_aurimas_s'\n",
    "    # ),\n",
    "    # InferenceConfig(\n",
    "    #     checkpoint_step=1305000,\n",
    "    #     hps=hps22,\n",
    "    #     speaker='giedrius_altoriu_sesely',\n",
    "    #     stressed=False,\n",
    "    #     filelist_path=filelist_dir / 'vits_giedrius_ns.txt',\n",
    "    #     output_dir=output_dir / 'vits_giedrius_ns'\n",
    "    # ),\n",
    "    # InferenceConfig(\n",
    "    #     checkpoint_step=1305000,\n",
    "    #     hps=hps22,\n",
    "    #     speaker='giedrius_altoriu_sesely',\n",
    "    #     stressed=True,\n",
    "    #     filelist_path=filelist_dir / 'vits_giedrius_s.txt',\n",
    "    #     output_dir=output_dir / 'vits_giedrius_s'\n",
    "    # ),\n",
    "    # InferenceConfig(\n",
    "    #     checkpoint_step=3020000,\n",
    "    #     hps=hps22,\n",
    "    #     speaker='vytautas',\n",
    "    #     stressed=False,\n",
    "    #     filelist_path=filelist_dir / 'vits_vytautas_ns.txt',\n",
    "    #     output_dir=output_dir / 'vits_vytautas_ns'\n",
    "    # ),\n",
    "    # InferenceConfig(\n",
    "    #     checkpoint_step=3020000,\n",
    "    #     hps=hps22,\n",
    "    #     speaker='vytautas',\n",
    "    #     stressed=True,\n",
    "    #     filelist_path=filelist_dir / 'vits_vytautas_s.txt',\n",
    "    #     output_dir=output_dir / 'vits_vytautas_s'\n",
    "    # ),\n",
    "    InferenceConfig(\n",
    "        checkpoint_step=330000,\n",
    "        hps=hps44,\n",
    "        speaker='aurimas_nausedas_44khz',\n",
    "        stressed=True,\n",
    "    ),\n",
    "    InferenceConfig(\n",
    "        checkpoint_step=365000,\n",
    "        hps=hps44,\n",
    "        speaker='giedrius_altoriu_sesely_44khz',\n",
    "        stressed=True,\n",
    "    ),\n",
    "]"
   ],
   "metadata": {
    "collapsed": false,
    "pycharm": {
     "name": "#%%\n"
    }
   }
  },
  {
   "cell_type": "code",
   "execution_count": 4,
   "outputs": [],
   "source": [
    "sents = [\n",
    "    \"- Jū̃s klaũsote sintezúoto tèksto.\",\n",
    "    \"Vìlniaus universitèto Matemãtikos ir̃ informãtikos fakultètas.\",\n",
    "    \"Vãsara paskutìnių kùrsų studeñtams kasmẽt prasìdeda įtemptaĩ - láukia baigiamų̃jų darbų̃ gynìmai. Vìlniaus universitèto Matemãtikos ir̃ informãtikos fakultetè šiaĩs mẽtais jiẽ prasìdeda gegužė̃s trisdešimt pirmąją ir̃ baĩgsis biržẽlio dešimtą diẽną.\",\n",
    "]\n",
    "sents += witty_sentences + kur_vasara_amzina_sentences"
   ],
   "metadata": {
    "collapsed": false,
    "pycharm": {
     "name": "#%%\n"
    }
   }
  },
  {
   "cell_type": "code",
   "execution_count": 5,
   "outputs": [],
   "source": [
    "sentences = [re.sub('[\\u0300\\u0301\\u0303]', '', s) for s in sents] if not configs[0].stressed else sents.copy()"
   ],
   "metadata": {
    "collapsed": false,
    "pycharm": {
     "name": "#%%\n"
    }
   }
  },
  {
   "cell_type": "code",
   "execution_count": 6,
   "outputs": [
    {
     "name": "stdout",
     "output_type": "stream",
     "text": [
      "[2022-06-22 13:26:59,191] INFO:PID-41706:MainThread:src.model.synthesizer: Synthesized 21 utterances.\n"
     ]
    },
    {
     "name": "stderr",
     "output_type": "stream",
     "text": [
      "[INFO] Synthesized 21 utterances.\n"
     ]
    },
    {
     "name": "stdout",
     "output_type": "stream",
     "text": [
      "[2022-06-22 13:27:01,245] INFO:PID-41706:MainThread:src.model.synthesizer: Synthesized 21 utterances.\n"
     ]
    },
    {
     "name": "stderr",
     "output_type": "stream",
     "text": [
      "[INFO] Synthesized 21 utterances.\n"
     ]
    }
   ],
   "source": [
    "for config in configs:\n",
    "    config.synthesizer.synthesize_all(sentences, plot_align=False, output_dir=config.output_dir)\n"
   ],
   "metadata": {
    "collapsed": false,
    "pycharm": {
     "name": "#%%\n"
    }
   }
  }
 ],
 "metadata": {
  "kernelspec": {
   "display_name": "Python 3",
   "language": "python",
   "name": "python3"
  },
  "language_info": {
   "codemirror_mode": {
    "name": "ipython",
    "version": 3
   },
   "file_extension": ".py",
   "mimetype": "text/x-python",
   "name": "python",
   "nbconvert_exporter": "python",
   "pygments_lexer": "ipython3",
   "version": "3.7.7"
  }
 },
 "nbformat": 4,
 "nbformat_minor": 4
}