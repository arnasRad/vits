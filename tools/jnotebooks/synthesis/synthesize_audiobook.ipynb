{
 "cells": [
  {
   "cell_type": "code",
   "execution_count": 1,
   "outputs": [],
   "source": [
    "%matplotlib inline\n",
    "\n",
    "# uncomment if ModuleNotFoundError is thrown\n",
    "import sys\n",
    "sys.path.append(\"/home/arnas/inovoice/repos/vits\")\n",
    "\n",
    "import os\n",
    "import time\n",
    "from datetime import datetime\n",
    "from pathlib import Path\n",
    "\n",
    "from scipy.io.wavfile import write\n",
    "from tqdm import tqdm\n",
    "\n",
    "from src.audio.concat import concat_2d_array_audios_with_silence\n",
    "from src.file import read_book\n",
    "from src.model.config import Speaker, get_inference_configs\n",
    "from src.model.synthesizer import Synthesizer\n",
    "from src.srt import generate_and_save_audiobook_srt\n",
    "from src.text.split import split_lines_to_sentences\n",
    "from src.model.config import InferenceConfig"
   ],
   "metadata": {
    "collapsed": false
   }
  },
  {
   "cell_type": "code",
   "execution_count": 2,
   "outputs": [],
   "source": [
    "pauses_by_speaker = {\n",
    "    Speaker.GIEDRIUS_BASE_44: (0.2, 0.7),\n",
    "\n",
    "    Speaker.AURIMAS_AUDIOBOOK_22: (0.0, 0.5),\n",
    "    Speaker.AURIMAS_AUDIOBOOK_44: (0.0, 0.5),\n",
    "\n",
    "    Speaker.AURIMAS_ALTORIU_SESELY_22: (0.9, 1.8),\n",
    "    Speaker.AURIMAS_ALTORIU_SESELY_44: (0.8, 1.8),\n",
    "\n",
    "    Speaker.MILDA_STUDIO_22: (0.5, 1.5),\n",
    "    Speaker.MILDA_STUDIO_44: (0.5, 1.5),\n",
    "    Speaker.MILDA_TEKA_UPE_PRO_SALI_22: (1, 1.7),\n",
    "    Speaker.MILDA_TEKA_UPE_PRO_SALI_44: (1, 1.7),\n",
    "}\n",
    "\n",
    "def synthesize_book_using_configs(in_dir, out_dir, synthesizer_configs, book_name):\n",
    "    chapters = load_book_chapters(input_dir=in_dir / f\"{book_name}-chapters\")\n",
    "\n",
    "    for speaker, config in synthesizer_configs.items():\n",
    "        speaker_value = str(speaker) if not isinstance(speaker, Speaker) else speaker.value\n",
    "        silence_between_sentences, silence_between_paragraphs = pauses_by_speaker[speaker]\n",
    "        print(f\"Using `{speaker_value}` synthesizer\")\n",
    "        print(f\"Synthesizing {book_name}\")\n",
    "        out_book_name = f'{book_name}_{datetime.now().strftime(\"%Y-%d-%m_%H-%M-%S\")}'\n",
    "        output_dir = out_dir / speaker_value / str(config.checkpoint_step) / out_book_name\n",
    "        output_dir.mkdir(parents=True, exist_ok=True)\n",
    "\n",
    "        synthesize_book(config, chapters, output_dir, silence_between_sentences, silence_between_paragraphs)\n",
    "\n",
    "\n",
    "def load_book_chapters(input_dir: Path, ) -> dict:\n",
    "    filepaths = [Path(input_dir) / file for file in os.listdir(input_dir)]\n",
    "\n",
    "    return {filepath.stem: read_book(filepath) for filepath in filepaths}\n",
    "\n",
    "\n",
    "def synthesize_book(config: InferenceConfig, chapters: dict, out_dir: Path,\n",
    "                    silence_between_sentences, silence_between_paragraphs):\n",
    "    start_time = time.time()\n",
    "    for idx, (chapter_name, chapter) in enumerate(chapters.items(), start=1):\n",
    "        print(f\"Synthesizing chapter `{chapter_name}` ({idx}/{len(chapters)})\")\n",
    "\n",
    "        chapter_sentences = split_lines_to_sentences(chapter)\n",
    "        audios = synthesize_chapter(chapter_sentences, config.synthesizer)\n",
    "        audiobook = concat_2d_array_audios_with_silence(audios,\n",
    "                                                        silence_between_dim1=silence_between_sentences,\n",
    "                                                        silence_between_dim2=silence_between_paragraphs,\n",
    "                                                        sr=config.synthesizer.sample_rate)\n",
    "\n",
    "        out_filename = out_dir / f\"{config.synthesizer.model_name}_{chapter_name}\"\n",
    "        write(f\"{out_filename}.wav\", config.synthesizer.sample_rate, audiobook)\n",
    "\n",
    "        generate_and_save_audiobook_srt(audios, chapter_sentences, config.synthesizer.sample_rate,\n",
    "                                        silence_between_sentences,\n",
    "                                        silence_between_paragraphs, Path(f\"{out_filename}.srt\"))\n",
    "\n",
    "    print(f\"Synthesis took {time.time() - start_time} seconds\")\n",
    "\n",
    "\n",
    "def synthesize_chapter(chapter_sentences, synthesizer: Synthesizer):\n",
    "    return [\n",
    "        [synthesizer.synthesize(sentence).audio for sentence in sentences if sentence]\n",
    "        for sentences in tqdm(chapter_sentences)\n",
    "    ]"
   ],
   "metadata": {
    "collapsed": false
   }
  },
  {
   "cell_type": "code",
   "execution_count": 3,
   "outputs": [],
   "source": [
    "input_base_dir = Path(\"/home/arnas/inovoice/tdi-files/antanukas-in-progress/segment\")\n",
    "output_base_dir = Path(\"/home/arnas/inovoice/repos/vits/files/audio/audiobooks\")"
   ],
   "metadata": {
    "collapsed": false
   }
  },
  {
   "cell_type": "code",
   "execution_count": null,
   "outputs": [],
   "source": [
    "configs = get_inference_configs(speakers=[Speaker.AURIMAS_ALTORIU_SESELY_22],\n",
    "                                audiobook_synthesis=True, speed_multiplier=0.85,\n",
    "                                device='gpu', cuda_device=1)"
   ],
   "metadata": {
    "collapsed": false,
    "pycharm": {
     "is_executing": true
    }
   }
  },
  {
   "cell_type": "code",
   "execution_count": null,
   "outputs": [],
   "source": [
    "synthesize_book_using_configs(input_base_dir, output_base_dir, configs, \"laiskai-lucilijui\")"
   ],
   "metadata": {
    "collapsed": false,
    "pycharm": {
     "is_executing": true
    }
   }
  }
 ],
 "metadata": {
  "kernelspec": {
   "display_name": "Python 3",
   "language": "python",
   "name": "python3"
  },
  "language_info": {
   "codemirror_mode": {
    "name": "ipython",
    "version": 3
   },
   "file_extension": ".py",
   "mimetype": "text/x-python",
   "name": "python",
   "nbconvert_exporter": "python",
   "pygments_lexer": "ipython3",
   "version": "3.7.7"
  }
 },
 "nbformat": 4,
 "nbformat_minor": 4
}
